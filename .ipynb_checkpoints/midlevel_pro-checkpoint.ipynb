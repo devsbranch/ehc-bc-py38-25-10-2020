{
 "cells": [
  {
   "cell_type": "code",
   "execution_count": null,
   "metadata": {},
   "outputs": [],
   "source": [
    "# WELCOME TO YET ANOTHER EPISODE OF THE `PYTHON EXPERT JOURNY`\n",
    "\n",
    "# TODAY WE WILL FOCUS ON\n",
    "# 1. Defensive programming - Exception handling\n",
    "# 2. Interacting with databases in python\n",
    "# 3. Functional programming in python\n",
    "\n",
    "# debugging session\n",
    "# - user input\n",
    "# - while loops\n",
    "# - best practices"
   ]
  }
 ],
 "metadata": {
  "kernelspec": {
   "display_name": "Python 3",
   "language": "python",
   "name": "python3"
  },
  "language_info": {
   "codemirror_mode": {
    "name": "ipython",
    "version": 3
   },
   "file_extension": ".py",
   "mimetype": "text/x-python",
   "name": "python",
   "nbconvert_exporter": "python",
   "pygments_lexer": "ipython3",
   "version": "3.8.5"
  }
 },
 "nbformat": 4,
 "nbformat_minor": 4
}
