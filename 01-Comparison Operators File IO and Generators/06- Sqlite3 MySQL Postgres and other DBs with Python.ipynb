{
 "cells": [
  {
   "cell_type": "markdown",
   "source": [
    "___\n",
    "\n",
    "<a href='https://github.com/sonlinux/'><img src='../sonlinux@devsbranch.png'/></a>\n",
    "___\n",
    "<center><em>Coursework  delivered by: Alison Mukoma</em></center>\n",
    "<center><em>Copyright: Evelyn Hone College cc DevsBranch.</em></center>"
   ],
   "metadata": {
    "collapsed": false
   }
  },
  {
   "cell_type": "markdown",
   "source": [
    "# Sqlite3 Database with python \n",
    "(working with the rest of the other databases will be demonstrated in a seperate class and shared in a seperate notebook)\n",
    "## Before to Start: Importing the Libraries and Packages and Checking the Versions"
   ],
   "metadata": {
    "collapsed": false
   }
  },
  {
   "cell_type": "markdown",
   "source": [
    "A Quick Introduction to SQLite with Python"
   ],
   "metadata": {
    "collapsed": false
   }
  },
  {
   "cell_type": "markdown",
   "source": [
    "- **First**, connect to the database using the database library's `connect` method. \n",
    "- **Second**, get a `cursor` which will let us execute SQL commands\n",
    "- **Third**, We can now execute any SQL commands that we want in the database using the cursor's `execute` method. Querying the database simply involves writing the appropriate SQL and placing it inside a string in the `execute` method call.\n",
    "- **Fourth**, if you saved the cursor in a variable then close it and the close the database connection as well\n"
   ],
   "metadata": {
    "collapsed": false
   }
  },
  {
   "cell_type": "code",
   "execution_count": null,
   "outputs": [],
   "source": [
    "db = sql3.connect('data.db')\n",
    "\n",
    "with db:\n",
    "    c = db.cursor()\n",
    "    c.execute('SELECT SQLITE_VERSION()')\n",
    "    data = c.fetchone()\n",
    "    print \"SQLite version: %s\" % data"
   ],
   "metadata": {
    "collapsed": false,
    "pycharm": {
     "name": "#%%\n"
    }
   }
  },
  {
   "cell_type": "code",
   "execution_count": null,
   "outputs": [],
   "source": [
    "c = db.cursor()"
   ],
   "metadata": {
    "collapsed": false,
    "pycharm": {
     "name": "#%%\n"
    }
   }
  },
  {
   "cell_type": "code",
   "execution_count": null,
   "outputs": [],
   "source": [
    "c.execute('CREATE TABLE test (i INTEGER, j TEXT)')"
   ],
   "metadata": {
    "collapsed": false,
    "pycharm": {
     "name": "#%%\n"
    }
   }
  },
  {
   "cell_type": "code",
   "execution_count": null,
   "outputs": [],
   "source": [
    "n = 5\n",
    "m = 'some text' \n",
    "\n",
    "c.execute('INSERT INTO test(i,j) VALUES (?,?)', (n,m))"
   ],
   "metadata": {
    "collapsed": false,
    "pycharm": {
     "name": "#%%\n"
    }
   }
  },
  {
   "cell_type": "code",
   "execution_count": null,
   "outputs": [],
   "source": [
    "n = 100\n",
    "m = 'more text' \n",
    "\n",
    "c.execute('INSERT INTO test(i,j) VALUES (?,?)', (n,m))"
   ],
   "metadata": {
    "collapsed": false,
    "pycharm": {
     "name": "#%%\n"
    }
   }
  },
  {
   "cell_type": "code",
   "execution_count": null,
   "outputs": [],
   "source": [
    "c.execute('SELECT * FROM test')"
   ],
   "metadata": {
    "collapsed": false,
    "pycharm": {
     "name": "#%%\n"
    }
   }
  },
  {
   "cell_type": "code",
   "execution_count": null,
   "outputs": [],
   "source": [
    "results = c.fetchall()\n",
    "print results"
   ],
   "metadata": {
    "collapsed": false,
    "pycharm": {
     "name": "#%%\n"
    }
   }
  },
  {
   "cell_type": "code",
   "execution_count": null,
   "outputs": [],
   "source": [
    "for (i,j) in results:\n",
    "    print i,j"
   ],
   "metadata": {
    "collapsed": false,
    "pycharm": {
     "name": "#%%\n"
    }
   }
  },
  {
   "cell_type": "code",
   "execution_count": null,
   "outputs": [],
   "source": [
    "c.execute('SELECT * FROM test WHERE i=5')\n",
    "print c.fetchall()"
   ],
   "metadata": {
    "collapsed": false,
    "pycharm": {
     "name": "#%%\n"
    }
   }
  },
  {
   "cell_type": "code",
   "execution_count": null,
   "outputs": [],
   "source": [
    "c.execute('UPDATE test SET j=\\'yet more test\\'WHERE i=5')\n",
    "c.execute('SELECT * FROM test')\n",
    "print c.fetchall()"
   ],
   "metadata": {
    "collapsed": false,
    "pycharm": {
     "name": "#%%\n"
    }
   }
  },
  {
   "cell_type": "code",
   "execution_count": null,
   "outputs": [],
   "source": [
    "c.execute('DELETE FROM test WHERE i=5')"
   ],
   "metadata": {
    "collapsed": false,
    "pycharm": {
     "name": "#%%\n"
    }
   }
  },
  {
   "cell_type": "code",
   "execution_count": null,
   "outputs": [],
   "source": [
    "c.execute('SELECT * FROM test')\n",
    "print c.fetchall()"
   ],
   "metadata": {
    "collapsed": false,
    "pycharm": {
     "name": "#%%\n"
    }
   }
  },
  {
   "cell_type": "markdown",
   "source": [
    "### 1. Inserting and Quering Data"
   ],
   "metadata": {
    "collapsed": false
   }
  },
  {
   "cell_type": "code",
   "execution_count": null,
   "outputs": [],
   "source": [
    "# os.unlink('test.db')\n",
    "con = sql3.connect('test.db')\n",
    "\n",
    "with con:\n",
    "    \n",
    "    cur = con.cursor()\n",
    "    cur.execute(\"DROP TABLE IF EXISTS Cars\")    \n",
    "    cur.execute(\"CREATE TABLE Cars(Id INT, Name TEXT, Price INT)\")\n",
    "    cur.execute(\"INSERT INTO Cars VALUES(1,'Audi',52642)\")\n",
    "    cur.execute(\"INSERT INTO Cars VALUES(2,'Mercedes',57127)\")\n",
    "    cur.execute(\"INSERT INTO Cars VALUES(3,'Skoda',9000)\")\n",
    "    cur.execute(\"INSERT INTO Cars VALUES(4,'Volvo',29000)\")\n",
    "    cur.execute(\"INSERT INTO Cars VALUES(5,'Bentley',350000)\")\n",
    "    cur.execute(\"INSERT INTO Cars VALUES(6,'Citroen',21000)\")\n",
    "    cur.execute(\"INSERT INTO Cars VALUES(7,'Hummer',41400)\")\n",
    "    cur.execute(\"INSERT INTO Cars VALUES(8,'Volkswagen',21600)\")"
   ],
   "metadata": {
    "collapsed": false,
    "pycharm": {
     "name": "#%%\n"
    }
   }
  },
  {
   "cell_type": "markdown",
   "source": [
    "In Python, we can use the `fetchall()` method to fetch all the records in the table:"
   ],
   "metadata": {
    "collapsed": false
   }
  },
  {
   "cell_type": "code",
   "execution_count": null,
   "outputs": [],
   "source": [
    "con = sql3.connect('test.db')\n",
    "cur = con.cursor()\n",
    "\n",
    "cur.execute('SELECT * FROM Cars')\n",
    "\n",
    "rows = cur.fetchall()\n",
    "for row in rows:\n",
    "    print row\n",
    "    \n",
    "# or, you can do also: \n",
    "# print cur.fetchall()"
   ],
   "metadata": {
    "collapsed": false,
    "pycharm": {
     "name": "#%%\n"
    }
   }
  },
  {
   "cell_type": "markdown",
   "source": [
    "Or, alternatively, to get the results into Python we then use either the `fetchone()` method to fetch one record at a time (it returns None when there are no more records to fetch so that you know when to stop)"
   ],
   "metadata": {
    "collapsed": false
   }
  },
  {
   "cell_type": "code",
   "execution_count": null,
   "outputs": [],
   "source": [
    "con = sql3.connect('test.db')\n",
    "cur = con.cursor()\n",
    "\n",
    "cur.execute('SELECT * FROM Cars')\n",
    "record = cur.fetchone()\n",
    "\n",
    "while record:\n",
    "    print record\n",
    "    record = cur.fetchone()\n",
    "    \n",
    "    "
   ],
   "metadata": {
    "collapsed": false,
    "pycharm": {
     "name": "#%%\n"
    }
   }
  },
  {
   "cell_type": "markdown",
   "source": [
    "Another possiblity ..."
   ],
   "metadata": {
    "collapsed": false
   }
  },
  {
   "cell_type": "code",
   "execution_count": null,
   "outputs": [],
   "source": [
    "con = sql3.connect('test.db')\n",
    "\n",
    "with con:    \n",
    "    \n",
    "    cur = con.cursor()    \n",
    "    cur.execute(\"SELECT * FROM Cars\")\n",
    "    \n",
    "    rows = cur.fetchall()\n",
    "    \n",
    "    for row in rows:\n",
    "        print row[0], row[1], row[2]\n",
    "        \n"
   ],
   "metadata": {
    "collapsed": false,
    "pycharm": {
     "name": "#%%\n"
    }
   }
  },
  {
   "cell_type": "markdown",
   "source": [
    "A technically better version of the previous code to retrive data is"
   ],
   "metadata": {
    "collapsed": false
   }
  },
  {
   "cell_type": "code",
   "execution_count": null,
   "outputs": [],
   "source": [
    "con = sql3.connect('test.db')\n",
    "\n",
    "with con:\n",
    "    \n",
    "    cur = con.cursor()    \n",
    "    cur.execute(\"SELECT * FROM Cars\")\n",
    "\n",
    "    while True:\n",
    "      \n",
    "        row = cur.fetchone()\n",
    "        \n",
    "        if row == None:\n",
    "            break\n",
    "            \n",
    "        print row[0], row[1], row[2]"
   ],
   "metadata": {
    "collapsed": false,
    "pycharm": {
     "name": "#%%\n"
    }
   }
  },
  {
   "cell_type": "markdown",
   "source": [
    "We are going to create the same table. This time using the convenience `executemany()` method."
   ],
   "metadata": {
    "collapsed": false
   }
  },
  {
   "cell_type": "code",
   "execution_count": null,
   "outputs": [],
   "source": [
    "cars = (\n",
    "    (1, 'Audi', 52642),\n",
    "    (2, 'Mercedes', 57127),\n",
    "    (3, 'Skoda', 9000),\n",
    "    (4, 'Volvo', 29000),\n",
    "    (5, 'Bentley', 350000),\n",
    "    (6, 'Hummer', 41400),\n",
    "    (7, 'Volkswagen', 21600)\n",
    ")\n",
    "\n",
    "con = sql3.connect('test.db')\n",
    "\n",
    "with con:\n",
    "    \n",
    "    cur = con.cursor()    \n",
    "    # This script drops a Cars table if it exists and (re)creates it.\n",
    "    cur.execute(\"DROP TABLE IF EXISTS Cars\")\n",
    "    cur.execute(\"CREATE TABLE Cars(Id INT, Name TEXT, Price INT)\")\n",
    "    # The first SQL statement drops the Cars table, if it exists. \n",
    "    # The second SQL statement creates the Cars table.\n",
    "    cur.executemany(\"INSERT INTO Cars VALUES(?, ?, ?)\", cars)"
   ],
   "metadata": {
    "collapsed": false,
    "pycharm": {
     "name": "#%%\n"
    }
   }
  },
  {
   "cell_type": "markdown",
   "source": [
    "Another way to create our Cars table: We commit the changes manually and provide our own **error handling**.\n",
    "In the script below we re-create the Cars table using the `executescript()` method"
   ],
   "metadata": {
    "collapsed": false
   }
  },
  {
   "cell_type": "code",
   "execution_count": null,
   "outputs": [],
   "source": [
    "try:\n",
    "    con = sql3.connect('test.db')\n",
    "\n",
    "    cur = con.cursor()  \n",
    "    \n",
    "    # The executescript() method allows us to execute the whole SQL code in one step.\n",
    "    \n",
    "    cur.executescript(\"\"\"\n",
    "        DROP TABLE IF EXISTS Cars;\n",
    "        CREATE TABLE Cars(Id INT, Name TEXT, Price INT);\n",
    "        INSERT INTO Cars VALUES(1,'Audi',52642);\n",
    "        INSERT INTO Cars VALUES(2,'Mercedes',57127);\n",
    "        INSERT INTO Cars VALUES(3,'Skoda',9000);\n",
    "        INSERT INTO Cars VALUES(4,'Volvo',29000);\n",
    "        INSERT INTO Cars VALUES(5,'Bentley',350000);\n",
    "        INSERT INTO Cars VALUES(6,'Citroen',21000);\n",
    "        INSERT INTO Cars VALUES(7,'Hummer',41400);\n",
    "        INSERT INTO Cars VALUES(8,'Volkswagen',21600);\n",
    "        \"\"\")\n",
    "\n",
    "    con.commit()\n",
    "    \n",
    "except lite.Error, e:\n",
    "    \n",
    "    if con:\n",
    "        con.rollback()\n",
    "        \n",
    "    print \"Error %s:\" % e.args[0]\n",
    "    sys.exit(1)\n",
    "    \n",
    "finally:\n",
    "    \n",
    "    if con:\n",
    "        con.close() "
   ],
   "metadata": {
    "collapsed": false,
    "pycharm": {
     "name": "#%%\n"
    }
   }
  },
  {
   "cell_type": "markdown",
   "source": [
    "##2. Parameterized queries"
   ],
   "metadata": {
    "collapsed": false
   }
  },
  {
   "cell_type": "markdown",
   "source": [
    "When we use parameterized queries, we use placeholders instead of directly writing the values into the statements. Parameterized queries increase security and performance.\n",
    "\n",
    "The Python **SQLite3** module supports two types of placeholders. Question marks and named placeholders."
   ],
   "metadata": {
    "collapsed": false
   }
  },
  {
   "cell_type": "code",
   "execution_count": null,
   "outputs": [],
   "source": [
    "uId = 1\n",
    "uPrice = 62300 \n",
    "\n",
    "con = sql3.connect('test.db')\n",
    "\n",
    "with con:\n",
    "\n",
    "    cur = con.cursor()    \n",
    "\n",
    "    cur.execute(\"UPDATE Cars SET Price=? WHERE Id=?\", (uPrice, uId))        \n",
    "    con.commit()\n",
    "    \n",
    "    print \"Number of rows updated: %d\" % cur.rowcount"
   ],
   "metadata": {
    "collapsed": false,
    "pycharm": {
     "name": "#%%\n"
    }
   }
  },
  {
   "cell_type": "markdown",
   "source": [
    "The second example uses parameterized statements with named placeholders:"
   ],
   "metadata": {
    "collapsed": false
   }
  },
  {
   "cell_type": "code",
   "execution_count": null,
   "outputs": [],
   "source": [
    "uId = 4\n",
    "\n",
    "con = sql3.connect('test.db')\n",
    "\n",
    "with con:\n",
    "\n",
    "    cur = con.cursor()    \n",
    "\n",
    "    cur.execute(\"SELECT Name, Price FROM Cars WHERE Id=:Id\", \n",
    "        {\"Id\": uId})        \n",
    "    con.commit()\n",
    "    \n",
    "    row = cur.fetchone()\n",
    "    print row[0], row[1]"
   ],
   "metadata": {
    "collapsed": false,
    "pycharm": {
     "name": "#%%\n"
    }
   }
  },
  {
   "cell_type": "markdown",
   "source": [
    "##3. Metadata"
   ],
   "metadata": {
    "collapsed": false
   }
  },
  {
   "cell_type": "markdown",
   "source": [
    "Metadata is information about the data in the database. Metadata in a SQLite contains information about the tables and columns, in which we store data. Number of rows affected by an SQL statement is a metadata. Number of rows and columns returned in a result set belong to metadata as well.\n",
    "\n",
    "Metadata in SQLite can be obtained using the PRAGMA command. SQLite objects may have attributes, which are metadata. Finally, we can also obtain specific metatada from querying the SQLite system sqlite_master table."
   ],
   "metadata": {
    "collapsed": false
   }
  },
  {
   "cell_type": "code",
   "execution_count": null,
   "outputs": [],
   "source": [
    "con = sql3.connect('test.db')\n",
    "\n",
    "with con:\n",
    "    \n",
    "    cur = con.cursor()    \n",
    "    \n",
    "    cur.execute('PRAGMA table_info(Cars)')\n",
    "    \n",
    "    data = cur.fetchall()\n",
    "    \n",
    "    for d in data:\n",
    "        print d[0], d[1], d[2]"
   ],
   "metadata": {
    "collapsed": false,
    "pycharm": {
     "name": "#%%\n"
    }
   }
  },
  {
   "cell_type": "markdown",
   "source": [
    "Next we will print all rows from the Cars table with their column names."
   ],
   "metadata": {
    "collapsed": false
   }
  },
  {
   "cell_type": "code",
   "execution_count": null,
   "outputs": [],
   "source": [
    "con = sql3.connect('test.db')\n",
    "\n",
    "with con:\n",
    "    \n",
    "    cur = con.cursor()    \n",
    "    cur.execute('SELECT * FROM Cars')\n",
    "    \n",
    "    col_names = [cn[0] for cn in cur.description]\n",
    "    \n",
    "    rows = cur.fetchall()\n",
    "    \n",
    "    print \"%-5s %-15s %s\" % (col_names[0], col_names[1], col_names[2])\n",
    "\n",
    "    for row in rows:    \n",
    "        print \"%-5s %-15s %s\" % row"
   ],
   "metadata": {
    "collapsed": false,
    "pycharm": {
     "name": "#%%\n"
    }
   }
  },
  {
   "cell_type": "markdown",
   "source": [
    "Another example related to the metadata, we list all tables in the test.db database."
   ],
   "metadata": {
    "collapsed": false
   }
  },
  {
   "cell_type": "code",
   "execution_count": null,
   "outputs": [],
   "source": [
    "con = sql3.connect('test.db')\n",
    "\n",
    "with con:\n",
    "    \n",
    "    cur = con.cursor()    \n",
    "    cur.execute(\"SELECT name FROM sqlite_master WHERE type='table'\")\n",
    "\n",
    "    rows = cur.fetchall()\n",
    "\n",
    "    for row in rows:\n",
    "        print row[0]"
   ],
   "metadata": {
    "collapsed": false,
    "pycharm": {
     "name": "#%%\n"
    }
   }
  },
  {
   "cell_type": "markdown",
   "source": [
    "##4. Export and Import of Data"
   ],
   "metadata": {
    "collapsed": false
   }
  },
  {
   "cell_type": "markdown",
   "source": [
    "We can dump data in an SQL format to create a simple backup of our database tables"
   ],
   "metadata": {
    "collapsed": false
   }
  },
  {
   "cell_type": "code",
   "execution_count": null,
   "outputs": [],
   "source": [
    "cars = (\n",
    "    (1, 'Audi', 52643),\n",
    "    (2, 'Mercedes', 57642),\n",
    "    (3, 'Skoda', 9000),\n",
    "    (4, 'Volvo', 29000),\n",
    "    (5, 'Bentley', 350000),\n",
    "    (6, 'Hummer', 41400),\n",
    "    (7, 'Volkswagen', 21600)\n",
    ")\n",
    "\n",
    "# The data from the table is being written to the file:\n",
    "\n",
    "def writeData(data):\n",
    "    \n",
    "    f = open('cars.sql', 'w')\n",
    "    \n",
    "    with f:\n",
    "        f.write(data)\n",
    "\n",
    "# We create a temporary table in the memory: \n",
    "\n",
    "con = sql3.connect(':memory:')\n",
    "\n",
    "# These lines create a Cars table, insert values and delete rows, \n",
    "# where the Price is less than 30000 units.\n",
    "\n",
    "with con:\n",
    "    \n",
    "    cur = con.cursor()\n",
    "    \n",
    "    cur.execute(\"DROP TABLE IF EXISTS Cars\")\n",
    "    cur.execute(\"CREATE TABLE Cars(Id INT, Name TEXT, Price INT)\")\n",
    "    cur.executemany(\"INSERT INTO Cars VALUES(?, ?, ?)\", cars)\n",
    "    cur.execute(\"DELETE FROM Cars WHERE Price < 30000\")\n",
    "    \n",
    "    # The con.iterdump() returns an iterator to dump the database \n",
    "    # in an SQL text format. The built-in join() function takes \n",
    "    # the iterator and joins all the strings in the iterator separated \n",
    "    # by a new line. This data is written to the cars.sql file in \n",
    "    # the writeData() function.\n",
    "    \n",
    "    data = '\\n'.join(con.iterdump())\n",
    "    \n",
    "    writeData(data)"
   ],
   "metadata": {
    "collapsed": false,
    "pycharm": {
     "name": "#%%\n"
    }
   }
  },
  {
   "cell_type": "code",
   "execution_count": null,
   "outputs": [],
   "source": [
    "print data"
   ],
   "metadata": {
    "collapsed": false,
    "pycharm": {
     "name": "#%%\n"
    }
   }
  },
  {
   "cell_type": "markdown",
   "source": [
    "Now we are going to perform a reverse operation. We will import the dumped table back into memory."
   ],
   "metadata": {
    "collapsed": false
   }
  },
  {
   "cell_type": "code",
   "execution_count": null,
   "outputs": [],
   "source": [
    "def readData():\n",
    "    \n",
    "    f = open('cars.sql', 'r')\n",
    "    \n",
    "    with f:\n",
    "        data = f.read()\n",
    "        return data\n",
    "        \n",
    "\n",
    "con = sql3.connect(':memory:')\n",
    "\n",
    "with con:   \n",
    "\n",
    "    cur = con.cursor()\n",
    "    \n",
    "    sql_query = readData()\n",
    "    cur.executescript(sql_query)\n",
    "    \n",
    "    cur.execute(\"SELECT * FROM Cars\")\n",
    "    \n",
    "    rows = cur.fetchall()\n",
    "    \n",
    "    for row in rows:\n",
    "        print row    "
   ],
   "metadata": {
    "collapsed": false,
    "pycharm": {
     "name": "#%%\n"
    }
   }
  },
  {
   "cell_type": "markdown",
   "source": [
    "##5. Transactions"
   ],
   "metadata": {
    "collapsed": false
   }
  },
  {
   "cell_type": "markdown",
   "source": [
    "A transaction is an atomic unit of database operations against the data in one or more databases. The effects of all the **SQL** statements in a transaction can be either all committed to the database or all rolled back.\n",
    "\n",
    "In **SQLite**, any command other than the `SELECT` will start an implicit transaction. Also, within a transaction a command like `CREATE TABLE` ..., `VACUUM`, `PRAGMA`, will commit previous changes before executing.\n",
    "\n",
    "Manual transactions are started with the `BEGIN TRANSACTION` statement and finished with the `COMMIT` or `ROLLBACK` statements.\n",
    "\n",
    "**SQLite** supports three non-standard transaction levels. `DEFERRED`, `IMMEDIATE` and `EXCLUSIVE`. SQLite Python module also supports an autocommit mode, where all changes to the tables are immediately effective."
   ],
   "metadata": {
    "collapsed": false
   }
  },
  {
   "cell_type": "code",
   "execution_count": null,
   "outputs": [],
   "source": [
    "# We create a friends table and try to fill it with data. However, the data is not commited...\n",
    "# because the commit() menhod is commented. \n",
    "# If we uncomment the line, the line will be written to the table:\n",
    "\n",
    "#import sqlite3 as sql\n",
    "\n",
    "try:\n",
    "    con = sql3.connect('test.db')\n",
    "    cur = con.cursor()    \n",
    "    cur.execute(\"DROP TABLE IF EXISTS Friends\")\n",
    "    cur.execute(\"CREATE TABLE Friends(Id INTEGER PRIMARY KEY, Name TEXT)\")\n",
    "    cur.execute(\"INSERT INTO Friends(Name) VALUES ('Tom')\")\n",
    "    cur.execute(\"INSERT INTO Friends(Name) VALUES ('Rebecca')\")\n",
    "    cur.execute(\"INSERT INTO Friends(Name) VALUES ('Jim')\")\n",
    "    cur.execute(\"INSERT INTO Friends(Name) VALUES ('Robert')\")\n",
    "    \n",
    "#---> con.commit()\n",
    "            \n",
    "except sql3.error, e:\n",
    "    \n",
    "    if con:\n",
    "        con.rollback()\n",
    "    \n",
    "    print \"Error %s:\" % e.args[0]\n",
    "    sys.exit(1)\n",
    "    \n",
    "finally:\n",
    "    \n",
    "    if con:\n",
    "        con.close() "
   ],
   "metadata": {
    "collapsed": false,
    "pycharm": {
     "name": "#%%\n"
    }
   }
  },
  {
   "cell_type": "markdown",
   "source": [
    "##Code Example 04: A Data Base of Movies"
   ],
   "metadata": {
    "collapsed": false
   }
  },
  {
   "cell_type": "markdown",
   "source": [
    "The `pandas.io.sql` module provides a collection of query wrappers to both facilitate data retrieval and to reduce dependency on DB-specific API. These wrappers only support the Python database adapters which respect the Python DB-API.\n",
    "\n",
    "Let us use, in the following example, a list of the 10.000 movies made since 1950 with the most IMDB user ratings. Download the data at http://bit.ly/cs109_imdb and save it as text file in your working directory."
   ],
   "metadata": {
    "collapsed": false
   }
  },
  {
   "cell_type": "code",
   "execution_count": null,
   "outputs": [],
   "source": [
    "names = ['imdbID', 'title', 'year', 'score', 'votes', 'runtime', 'genres']\n",
    "movies = pd.read_csv('imdb_top_10000.txt', delimiter='\\t', names = names).dropna()\n",
    "\n",
    "print movies.head()\n",
    "\n",
    "clean_runtime = [float(r.split(' ')[0]) for r in movies.runtime]\n",
    "movies['runtime'] = clean_runtime\n",
    "\n",
    "# determine the unique genres\n",
    "\n",
    "genres = set()\n",
    "\n",
    "for m in movies.genres:\n",
    "    genres.update(g for g in m.split('|'))\n",
    "\n",
    "genres = sorted(genres)\n",
    "\n",
    "# make a column for each genre\n",
    "\n",
    "for genre in genres:\n",
    "    movies[genre] = [genre in movie.split('|') for movie in movies.genres]\n",
    "         \n",
    "movies['title'] = [t[0:-7] for t in movies.title]\n",
    "\n",
    "print movies.head()  # print the first 10 rows"
   ],
   "metadata": {
    "collapsed": false,
    "pycharm": {
     "name": "#%%\n"
    }
   }
  },
  {
   "cell_type": "code",
   "execution_count": null,
   "outputs": [],
   "source": [
    "\n",
    "# to load Dataframes into a SQl dataBase we need something from pandas\n",
    "from pandas.io import sql\n",
    "\n",
    "\n",
    "# Create your connection.\n",
    "cnx = sql3.connect('movies.db')\n",
    "\n",
    "# Load the DataFrame in SQLite3\n",
    "sql.write_frame(movies, name='movies', con=cnx)\n",
    "\n",
    "# Retriving the data from SQLite3\n",
    "# p1 = sql.read_frame('SELECT * FROM movies', cnx)\n",
    "\n",
    "p3 = sql.read_frame('SELECT * FROM movies WHERE year=2001', cnx)\n",
    "\n",
    "p3.shape"
   ],
   "metadata": {
    "collapsed": false,
    "pycharm": {
     "name": "#%%\n"
    }
   }
  },
  {
   "cell_type": "code",
   "execution_count": null,
   "outputs": [],
   "source": [
    "cnx = sql3.connect('movies.db')\n",
    "\n",
    "with con:\n",
    "    \n",
    "    cur = con.cursor()    \n",
    "    \n",
    "    cur.execute('PRAGMA table_info(Movies)')\n",
    "    \n",
    "    data = cur.fetchall()\n",
    "    \n",
    "    for d in data:\n",
    "        print d[0], d[1], d[2]"
   ],
   "metadata": {
    "collapsed": false,
    "pycharm": {
     "name": "#%%\n"
    }
   }
  },
  {
   "cell_type": "markdown",
   "source": [
    "##Code Example 05: Time Series Storage in a Data Base\n",
    "\n",
    "Functions from `pandas.io.data` extract data from various Internet sources into a DataFrame. Currently the following sources are supported:\n",
    "   \n",
    "   - **Yahoo! Finance** with `web.DataReader(ticker,'yahoo', start, end)`\n",
    "   - **Google Finance** with `web.DataReader(ticker,'google', start, end)`\n",
    "   - **St. Louis FED (FRED)** with `web.DataReader('GDP', 'fred', start, end)`\n",
    "   - **Kenneth French’s** data library with `web.DataReader(\"5_Industry_Portfolios\", \"famafrench\")`\n",
    "\n",
    "It should be noted, that various sources support different kinds of data, so not all sources implement the same methods and the data elements returned might also differ."
   ],
   "metadata": {
    "collapsed": false
   }
  },
  {
   "cell_type": "code",
   "execution_count": null,
   "outputs": [],
   "source": [
    "# Download data from yahoo\n",
    "import pandas.io.data as web\n",
    "\n",
    "start = pd.datetime(2013, 1, 1)\n",
    "end = pd.datetime(2013, 12, 1)\n",
    "\n",
    "# f=web.DataReader(\"F\", 'yahoo', start, end)\n",
    "\n",
    "all_data = {}\n",
    "\n",
    "for ticker in ['AAPL', 'GOOG', 'MSFT', 'DELL', 'GS', 'MS', 'BAC']:\n",
    "    all_data[ticker] = web.DataReader(ticker,'yahoo', start, end)\n",
    "\n",
    "# create a data frame\n",
    "# prices = pd.DataFrame({tic: data['Adj Close'] for tic, data in all_data.iteritems()}).dropna()\n"
   ],
   "metadata": {
    "collapsed": false,
    "pycharm": {
     "name": "#%%\n"
    }
   }
  },
  {
   "cell_type": "code",
   "execution_count": null,
   "outputs": [],
   "source": [
    "# create a data frame\n",
    "prices = pd.DataFrame({tic: data['Adj Close'] for tic, data in all_data.iteritems()})\n",
    "prices['Dates']=prices.index()\n",
    "print prices.describe()\n",
    "print '='*100\n",
    "print prices.head()"
   ],
   "metadata": {
    "collapsed": false,
    "pycharm": {
     "name": "#%%\n"
    }
   }
  },
  {
   "cell_type": "code",
   "execution_count": null,
   "outputs": [],
   "source": [
    "# Notice that writing your DataFrame into a database works only with SQLite. \n",
    "# Moreover, the index will currently be dropped, therefore first, we have \n",
    "# to move it as column\n",
    "\n",
    "prices['Dates']=prices.index[:]\n",
    "prices.head()"
   ],
   "metadata": {
    "collapsed": false,
    "pycharm": {
     "name": "#%%\n"
    }
   }
  },
  {
   "cell_type": "code",
   "execution_count": null,
   "outputs": [],
   "source": [
    "# To load DataFrames into a SQLite DataBase we need something from pandas\n",
    "# that transforms DataFrames into tables and back \n",
    "\n",
    "from pandas.io import sql\n",
    "\n",
    "# Create your connection\n",
    "\n",
    "cnx = sql3.connect('prices.db')\n",
    "\n",
    "# Load the DataFrame in SQLite3\n",
    "cur = cnx.cursor()    \n",
    "cur.execute(\"DROP TABLE IF EXISTS prices\")\n",
    "\n",
    "sql.write_frame(prices, name='prices', con = cnx)\n",
    "       \n",
    "# Retriving the data from SQLite3\n",
    "# apple = sql.read_frame(\"SELECT AAPL FROM prices\", cnx)\n"
   ],
   "metadata": {
    "collapsed": false,
    "pycharm": {
     "name": "#%%\n"
    }
   }
  },
  {
   "cell_type": "code",
   "execution_count": null,
   "outputs": [],
   "source": [
    "cnx = sql3.connect('prices.db')\n",
    "\n",
    "with cnx:\n",
    "    \n",
    "    cur = cnx.cursor()    \n",
    "    cur.execute('PRAGMA table_info(prices)')\n",
    "    \n",
    "    table = cur.fetchall()\n",
    "    \n",
    "    for d in table:\n",
    "        print d[0], d[1]"
   ],
   "metadata": {
    "collapsed": false,
    "pycharm": {
     "name": "#%%\n"
    }
   }
  },
  {
   "cell_type": "code",
   "execution_count": null,
   "outputs": [],
   "source": [
    "# Retriving the data from SQLite3\n",
    "\n",
    "from pandas.io import sql\n",
    "from pandas.lib import Timestamp\n",
    "\n",
    "cnx = sql3.connect('prices.db')\n",
    "allp =  sql.read_frame(\"SELECT * FROM prices\", cnx)\n",
    "apple2 = sql.read_frame(\"SELECT AAPL,Dates FROM prices\", cnx)\n",
    "\n",
    "# from pandas.lib import Timestamp\n",
    "apple2.Dates = apple2.Dates.apply(Timestamp)\n",
    "apple = apple2.set_index('Dates')\n",
    "\n",
    "\n",
    "start = pd.datetime(2013, 1, 1)\n",
    "end = pd.datetime(2013, 12, 1)\n",
    "rng = pd.bdate_range(start, end)\n",
    "\n",
    "# apple.set_index(rng)\n",
    "print allp.describe()\n",
    "apple.head(15)"
   ],
   "metadata": {
    "collapsed": false,
    "pycharm": {
     "name": "#%%\n"
    }
   }
  },
  {
   "cell_type": "code",
   "execution_count": null,
   "outputs": [],
   "source": [
    "allp.head()"
   ],
   "metadata": {
    "collapsed": false,
    "pycharm": {
     "name": "#%%\n"
    }
   }
  },
  {
   "cell_type": "code",
   "execution_count": null,
   "outputs": [],
   "source": [
    "start = datetime(start)\n",
    "end = datetime(end)\n",
    "\n",
    "rng = date_range(start, end)\n"
   ],
   "metadata": {
    "collapsed": false,
    "pycharm": {
     "name": "#%%\n"
    }
   }
  },
  {
   "cell_type": "code",
   "execution_count": null,
   "outputs": [],
   "source": [
    "cur = cnx.cursor()    \n",
    "cur.execute(\"SELECT AAPL FROM prices\")\n",
    "cur.fetchall()\n",
    "del cur"
   ],
   "metadata": {
    "collapsed": false,
    "pycharm": {
     "name": "#%%\n"
    }
   }
  },
  {
   "cell_type": "code",
   "execution_count": null,
   "outputs": [],
   "source": [
    "whos"
   ],
   "metadata": {
    "collapsed": false,
    "pycharm": {
     "name": "#%%\n"
    }
   }
  },
  {
   "cell_type": "code",
   "execution_count": null,
   "outputs": [],
   "source": [],
   "metadata": {
    "collapsed": false,
    "pycharm": {
     "name": "#%%\n"
    }
   }
  },
  {
   "cell_type": "code",
   "execution_count": null,
   "outputs": [],
   "source": [],
   "metadata": {
    "collapsed": false,
    "pycharm": {
     "name": "#%%\n"
    }
   }
  }
 ],
 "metadata": {
  "kernelspec": {
   "display_name": "Python 3",
   "language": "python",
   "name": "python3"
  },
  "language_info": {
   "codemirror_mode": {
    "name": "ipython",
    "version": 3
   },
   "file_extension": ".py",
   "mimetype": "text/x-python",
   "name": "python",
   "nbconvert_exporter": "python",
   "pygments_lexer": "ipython3",
   "version": "3.8.5"
  }
 },
 "nbformat": 4,
 "nbformat_minor": 4
}