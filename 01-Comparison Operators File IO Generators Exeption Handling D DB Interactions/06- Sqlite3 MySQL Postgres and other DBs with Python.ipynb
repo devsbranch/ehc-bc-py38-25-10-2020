{
 "cells": [
  {
   "cell_type": "markdown",
   "metadata": {},
   "source": [
    "___\n",
    "\n",
    "<a href='https://github.com/sonlinux/'><img src='../sonlinux@devsbranch.png'/></a>\n",
    "___\n",
    "<center><em>Coursework  delivered by: Alison Mukoma</em></center>\n",
    "<center><em>Copyright: Evelyn Hone College cc DevsBranch.</em></center>"
   ]
  },
  {
   "cell_type": "markdown",
   "metadata": {},
   "source": [
    "# Sqlite3 Database with python \n",
    "(working with the rest of the other databases will be demonstrated in a seperate class and shared in a seperate notebook)\n",
    "## Before to Start: Importing the Libraries and Packages and Checking the Versions"
   ]
  },
  {
   "cell_type": "markdown",
   "metadata": {},
   "source": [
    "A Quick Introduction to SQLite with Python"
   ]
  },
  {
   "cell_type": "markdown",
   "metadata": {},
   "source": [
    "- **First**, connect to the database using the database library's `connect` method. \n",
    "- **Second**, get a `cursor` which will let us execute SQL commands\n",
    "- **Third**, We can now execute any SQL commands that we want in the database using the cursor's `execute` method. Querying the database simply involves writing the appropriate SQL and placing it inside a string in the `execute` method call.\n",
    "- **Fourth**, if you saved the cursor in a variable then close it and the close the database connection as well\n"
   ]
  },
  {
   "cell_type": "code",
   "execution_count": 5,
   "metadata": {
    "collapsed": false,
    "jupyter": {
     "outputs_hidden": false
    }
   },
   "outputs": [
    {
     "name": "stdout",
     "output_type": "stream",
     "text": [
      "SQLite version: 3.6.21\n"
     ]
    }
   ],
   "source": [
    "# import sqlite3 \n",
    "# or we can choose to import and give it a placeholder name that we will then use, it means the same\n",
    "import sqlite3 as sql3\n",
    "\n",
    "db = sql3.connect('data.db')\n",
    "\n",
    "with db:\n",
    "    c = db.cursor()\n",
    "    c.execute('SELECT SQLITE_VERSION()')\n",
    "    data = c.fetchone()\n",
    "    print \"SQLite version: %s\" % data"
   ]
  },
  {
   "cell_type": "code",
   "execution_count": 6,
   "metadata": {
    "collapsed": false,
    "jupyter": {
     "outputs_hidden": false
    }
   },
   "outputs": [],
   "source": [
    "c = db.cursor()"
   ]
  },
  {
   "cell_type": "code",
   "execution_count": 7,
   "metadata": {
    "collapsed": false,
    "jupyter": {
     "outputs_hidden": false
    }
   },
   "outputs": [
    {
     "data": {
      "text/plain": [
       "<sqlite3.Cursor at 0x5c13960>"
      ]
     },
     "execution_count": 7,
     "metadata": {},
     "output_type": "execute_result"
    }
   ],
   "source": [
    "c.execute('CREATE TABLE test (i INTEGER, j TEXT)')"
   ]
  },
  {
   "cell_type": "code",
   "execution_count": 8,
   "metadata": {
    "collapsed": false,
    "jupyter": {
     "outputs_hidden": false
    }
   },
   "outputs": [
    {
     "data": {
      "text/plain": [
       "<sqlite3.Cursor at 0x5c13960>"
      ]
     },
     "execution_count": 8,
     "metadata": {},
     "output_type": "execute_result"
    }
   ],
   "source": [
    "n = 5\n",
    "m = 'some text' \n",
    "\n",
    "c.execute('INSERT INTO test(i,j) VALUES (?,?)', (n,m))"
   ]
  },
  {
   "cell_type": "code",
   "execution_count": 9,
   "metadata": {
    "collapsed": false,
    "jupyter": {
     "outputs_hidden": false
    }
   },
   "outputs": [
    {
     "data": {
      "text/plain": [
       "<sqlite3.Cursor at 0x5c13960>"
      ]
     },
     "execution_count": 9,
     "metadata": {},
     "output_type": "execute_result"
    }
   ],
   "source": [
    "n = 100\n",
    "m = 'more text' \n",
    "\n",
    "c.execute('INSERT INTO test(i,j) VALUES (?,?)', (n,m))"
   ]
  },
  {
   "cell_type": "code",
   "execution_count": 10,
   "metadata": {
    "collapsed": false,
    "jupyter": {
     "outputs_hidden": false
    }
   },
   "outputs": [
    {
     "data": {
      "text/plain": [
       "<sqlite3.Cursor at 0x5c13960>"
      ]
     },
     "execution_count": 10,
     "metadata": {},
     "output_type": "execute_result"
    }
   ],
   "source": [
    "c.execute('SELECT * FROM test')"
   ]
  },
  {
   "cell_type": "code",
   "execution_count": 11,
   "metadata": {
    "collapsed": false,
    "jupyter": {
     "outputs_hidden": false
    }
   },
   "outputs": [
    {
     "name": "stdout",
     "output_type": "stream",
     "text": [
      "[(5, u'some text'), (100, u'more text')]\n"
     ]
    }
   ],
   "source": [
    "results = c.fetchall()\n",
    "print results"
   ]
  },
  {
   "cell_type": "code",
   "execution_count": 12,
   "metadata": {
    "collapsed": false,
    "jupyter": {
     "outputs_hidden": false
    }
   },
   "outputs": [
    {
     "name": "stdout",
     "output_type": "stream",
     "text": [
      "5 some text\n",
      "100 more text\n"
     ]
    }
   ],
   "source": [
    "for (i,j) in results:\n",
    "    print i,j"
   ]
  },
  {
   "cell_type": "code",
   "execution_count": 13,
   "metadata": {
    "collapsed": false,
    "jupyter": {
     "outputs_hidden": false
    }
   },
   "outputs": [
    {
     "name": "stdout",
     "output_type": "stream",
     "text": [
      "[(5, u'some text')]\n"
     ]
    }
   ],
   "source": [
    "c.execute('SELECT * FROM test WHERE i=5')\n",
    "print c.fetchall()"
   ]
  },
  {
   "cell_type": "code",
   "execution_count": 14,
   "metadata": {
    "collapsed": false,
    "jupyter": {
     "outputs_hidden": false
    }
   },
   "outputs": [
    {
     "name": "stdout",
     "output_type": "stream",
     "text": [
      "[(5, u'yet more test'), (100, u'more text')]\n"
     ]
    }
   ],
   "source": [
    "c.execute('UPDATE test SET j=\\'yet more test\\'WHERE i=5')\n",
    "c.execute('SELECT * FROM test')\n",
    "print c.fetchall()"
   ]
  },
  {
   "cell_type": "code",
   "execution_count": 15,
   "metadata": {
    "collapsed": false,
    "jupyter": {
     "outputs_hidden": false
    }
   },
   "outputs": [
    {
     "data": {
      "text/plain": [
       "<sqlite3.Cursor at 0x5c13960>"
      ]
     },
     "execution_count": 15,
     "metadata": {},
     "output_type": "execute_result"
    }
   ],
   "source": [
    "c.execute('DELETE FROM test WHERE i=5')"
   ]
  },
  {
   "cell_type": "code",
   "execution_count": 16,
   "metadata": {
    "collapsed": false,
    "jupyter": {
     "outputs_hidden": false
    }
   },
   "outputs": [
    {
     "name": "stdout",
     "output_type": "stream",
     "text": [
      "[(100, u'more text')]\n"
     ]
    }
   ],
   "source": [
    "c.execute('SELECT * FROM test')\n",
    "print c.fetchall()"
   ]
  },
  {
   "cell_type": "markdown",
   "metadata": {},
   "source": [
    "### 1. Inserting and Quering Data"
   ]
  },
  {
   "cell_type": "code",
   "execution_count": 25,
   "metadata": {
    "collapsed": false,
    "jupyter": {
     "outputs_hidden": false
    }
   },
   "outputs": [],
   "source": [
    "# os.unlink('test.db')\n",
    "con = sql3.connect('test.db')\n",
    "\n",
    "with con:\n",
    "    \n",
    "    cur = con.cursor()\n",
    "    cur.execute(\"DROP TABLE IF EXISTS Cars\")    \n",
    "    cur.execute(\"CREATE TABLE Cars(Id INT, Name TEXT, Price INT)\")\n",
    "    cur.execute(\"INSERT INTO Cars VALUES(1,'Audi',52642)\")\n",
    "    cur.execute(\"INSERT INTO Cars VALUES(2,'Mercedes',57127)\")\n",
    "    cur.execute(\"INSERT INTO Cars VALUES(3,'Skoda',9000)\")\n",
    "    cur.execute(\"INSERT INTO Cars VALUES(4,'Volvo',29000)\")\n",
    "    cur.execute(\"INSERT INTO Cars VALUES(5,'Bentley',350000)\")\n",
    "    cur.execute(\"INSERT INTO Cars VALUES(6,'Citroen',21000)\")\n",
    "    cur.execute(\"INSERT INTO Cars VALUES(7,'Hummer',41400)\")\n",
    "    cur.execute(\"INSERT INTO Cars VALUES(8,'Volkswagen',21600)\")"
   ]
  },
  {
   "cell_type": "markdown",
   "metadata": {},
   "source": [
    "In Python, we can use the `fetchall()` method to fetch all the records in the table:"
   ]
  },
  {
   "cell_type": "code",
   "execution_count": 30,
   "metadata": {
    "collapsed": false,
    "jupyter": {
     "outputs_hidden": false
    }
   },
   "outputs": [
    {
     "name": "stdout",
     "output_type": "stream",
     "text": [
      "(1, u'Audi', 52642)\n",
      "(2, u'Mercedes', 57127)\n",
      "(3, u'Skoda', 9000)\n",
      "(4, u'Volvo', 29000)\n",
      "(5, u'Bentley', 350000)\n",
      "(6, u'Citroen', 21000)\n",
      "(7, u'Hummer', 41400)\n",
      "(8, u'Volkswagen', 21600)\n"
     ]
    }
   ],
   "source": [
    "con = sql3.connect('test.db')\n",
    "cur = con.cursor()\n",
    "\n",
    "cur.execute('SELECT * FROM Cars')\n",
    "\n",
    "rows = cur.fetchall()\n",
    "for row in rows:\n",
    "    print row\n",
    "    \n",
    "# or, you can do also: \n",
    "# print cur.fetchall()"
   ]
  },
  {
   "cell_type": "markdown",
   "metadata": {},
   "source": [
    "Or, alternatively, to get the results into Python we then use either the `fetchone()` method to fetch one record at a time (it returns None when there are no more records to fetch so that you know when to stop)"
   ]
  },
  {
   "cell_type": "code",
   "execution_count": 29,
   "metadata": {
    "collapsed": false,
    "jupyter": {
     "outputs_hidden": false
    }
   },
   "outputs": [
    {
     "name": "stdout",
     "output_type": "stream",
     "text": [
      "(1, u'Audi', 52642)\n",
      "(2, u'Mercedes', 57127)\n",
      "(3, u'Skoda', 9000)\n",
      "(4, u'Volvo', 29000)\n",
      "(5, u'Bentley', 350000)\n",
      "(6, u'Citroen', 21000)\n",
      "(7, u'Hummer', 41400)\n",
      "(8, u'Volkswagen', 21600)\n"
     ]
    }
   ],
   "source": [
    "con = sql3.connect('test.db')\n",
    "cur = con.cursor()\n",
    "\n",
    "cur.execute('SELECT * FROM Cars')\n",
    "record = cur.fetchone()\n",
    "\n",
    "while record:\n",
    "    print record\n",
    "    record = cur.fetchone()\n",
    "    \n",
    "    "
   ]
  },
  {
   "cell_type": "markdown",
   "metadata": {},
   "source": [
    "Another possiblity ..."
   ]
  },
  {
   "cell_type": "code",
   "execution_count": 33,
   "metadata": {
    "collapsed": false,
    "jupyter": {
     "outputs_hidden": false
    }
   },
   "outputs": [
    {
     "name": "stdout",
     "output_type": "stream",
     "text": [
      "1 Audi 52642\n",
      "2 Mercedes 57127\n",
      "3 Skoda 9000\n",
      "4 Volvo 29000\n",
      "5 Bentley 350000\n",
      "6 Citroen 21000\n",
      "7 Hummer 41400\n",
      "8 Volkswagen 21600\n"
     ]
    }
   ],
   "source": [
    "con = sql3.connect('test.db')\n",
    "\n",
    "with con:    \n",
    "    \n",
    "    cur = con.cursor()    \n",
    "    cur.execute(\"SELECT * FROM Cars\")\n",
    "    \n",
    "    rows = cur.fetchall()\n",
    "    \n",
    "    for row in rows:\n",
    "        print row[0], row[1], row[2]\n",
    "        \n"
   ]
  },
  {
   "cell_type": "markdown",
   "metadata": {},
   "source": [
    "A technically better version of the previous code to retrive data is"
   ]
  },
  {
   "cell_type": "code",
   "execution_count": 32,
   "metadata": {
    "collapsed": false,
    "jupyter": {
     "outputs_hidden": false
    }
   },
   "outputs": [
    {
     "name": "stdout",
     "output_type": "stream",
     "text": [
      "1 Audi 52642\n",
      "2 Mercedes 57127\n",
      "3 Skoda 9000\n",
      "4 Volvo 29000\n",
      "5 Bentley 350000\n",
      "6 Citroen 21000\n",
      "7 Hummer 41400\n",
      "8 Volkswagen 21600\n"
     ]
    }
   ],
   "source": [
    "con = sql3.connect('test.db')\n",
    "\n",
    "with con:\n",
    "    \n",
    "    cur = con.cursor()    \n",
    "    cur.execute(\"SELECT * FROM Cars\")\n",
    "\n",
    "    while True:\n",
    "      \n",
    "        row = cur.fetchone()\n",
    "        \n",
    "        if row == None:\n",
    "            break\n",
    "            \n",
    "        print row[0], row[1], row[2]"
   ]
  },
  {
   "cell_type": "markdown",
   "metadata": {},
   "source": [
    "We are going to create the same table. This time using the convenience `executemany()` method."
   ]
  },
  {
   "cell_type": "code",
   "execution_count": 23,
   "metadata": {
    "collapsed": false,
    "jupyter": {
     "outputs_hidden": false
    }
   },
   "outputs": [],
   "source": [
    "cars = (\n",
    "    (1, 'Audi', 52642),\n",
    "    (2, 'Mercedes', 57127),\n",
    "    (3, 'Skoda', 9000),\n",
    "    (4, 'Volvo', 29000),\n",
    "    (5, 'Bentley', 350000),\n",
    "    (6, 'Hummer', 41400),\n",
    "    (7, 'Volkswagen', 21600)\n",
    ")\n",
    "\n",
    "con = sql3.connect('test.db')\n",
    "\n",
    "with con:\n",
    "    \n",
    "    cur = con.cursor()    \n",
    "    # This script drops a Cars table if it exists and (re)creates it.\n",
    "    cur.execute(\"DROP TABLE IF EXISTS Cars\")\n",
    "    cur.execute(\"CREATE TABLE Cars(Id INT, Name TEXT, Price INT)\")\n",
    "    # The first SQL statement drops the Cars table, if it exists. \n",
    "    # The second SQL statement creates the Cars table.\n",
    "    cur.executemany(\"INSERT INTO Cars VALUES(?, ?, ?)\", cars)"
   ]
  },
  {
   "cell_type": "markdown",
   "metadata": {},
   "source": [
    "Another way to create our Cars table: We commit the changes manually and provide our own **error handling**.\n",
    "In the script below we re-create the Cars table using the `executescript()` method"
   ]
  },
  {
   "cell_type": "code",
   "execution_count": 24,
   "metadata": {
    "collapsed": false,
    "jupyter": {
     "outputs_hidden": false
    }
   },
   "outputs": [],
   "source": [
    "try:\n",
    "    con = sql3.connect('test.db')\n",
    "\n",
    "    cur = con.cursor()  \n",
    "    \n",
    "    # The executescript() method allows us to execute the whole SQL code in one step.\n",
    "    \n",
    "    cur.executescript(\"\"\"\n",
    "        DROP TABLE IF EXISTS Cars;\n",
    "        CREATE TABLE Cars(Id INT, Name TEXT, Price INT);\n",
    "        INSERT INTO Cars VALUES(1,'Audi',52642);\n",
    "        INSERT INTO Cars VALUES(2,'Mercedes',57127);\n",
    "        INSERT INTO Cars VALUES(3,'Skoda',9000);\n",
    "        INSERT INTO Cars VALUES(4,'Volvo',29000);\n",
    "        INSERT INTO Cars VALUES(5,'Bentley',350000);\n",
    "        INSERT INTO Cars VALUES(6,'Citroen',21000);\n",
    "        INSERT INTO Cars VALUES(7,'Hummer',41400);\n",
    "        INSERT INTO Cars VALUES(8,'Volkswagen',21600);\n",
    "        \"\"\")\n",
    "\n",
    "    con.commit()\n",
    "    \n",
    "except lite.Error, e:\n",
    "    \n",
    "    if con:\n",
    "        con.rollback()\n",
    "        \n",
    "    print \"Error %s:\" % e.args[0]\n",
    "    sys.exit(1)\n",
    "    \n",
    "finally:\n",
    "    \n",
    "    if con:\n",
    "        con.close() "
   ]
  },
  {
   "cell_type": "markdown",
   "metadata": {},
   "source": [
    "##2. Parameterized queries"
   ]
  },
  {
   "cell_type": "markdown",
   "metadata": {},
   "source": [
    "When we use parameterized queries, we use placeholders instead of directly writing the values into the statements. Parameterized queries increase security and performance.\n",
    "\n",
    "The Python **SQLite3** module supports two types of placeholders. Question marks and named placeholders."
   ]
  },
  {
   "cell_type": "code",
   "execution_count": 36,
   "metadata": {
    "collapsed": false,
    "jupyter": {
     "outputs_hidden": false
    }
   },
   "outputs": [
    {
     "name": "stdout",
     "output_type": "stream",
     "text": [
      "Number of rows updated: 1\n"
     ]
    }
   ],
   "source": [
    "uId = 1\n",
    "uPrice = 62300 \n",
    "\n",
    "con = sql3.connect('test.db')\n",
    "\n",
    "with con:\n",
    "\n",
    "    cur = con.cursor()    \n",
    "\n",
    "    cur.execute(\"UPDATE Cars SET Price=? WHERE Id=?\", (uPrice, uId))        \n",
    "    con.commit()\n",
    "    \n",
    "    print \"Number of rows updated: %d\" % cur.rowcount"
   ]
  },
  {
   "cell_type": "markdown",
   "metadata": {},
   "source": [
    "The second example uses parameterized statements with named placeholders:"
   ]
  },
  {
   "cell_type": "code",
   "execution_count": 35,
   "metadata": {
    "collapsed": false,
    "jupyter": {
     "outputs_hidden": false
    }
   },
   "outputs": [
    {
     "name": "stdout",
     "output_type": "stream",
     "text": [
      "Volvo 29000\n"
     ]
    }
   ],
   "source": [
    "uId = 4\n",
    "\n",
    "con = sql3.connect('test.db')\n",
    "\n",
    "with con:\n",
    "\n",
    "    cur = con.cursor()    \n",
    "\n",
    "    cur.execute(\"SELECT Name, Price FROM Cars WHERE Id=:Id\", \n",
    "        {\"Id\": uId})        \n",
    "    con.commit()\n",
    "    \n",
    "    row = cur.fetchone()\n",
    "    print row[0], row[1]"
   ]
  },
  {
   "cell_type": "markdown",
   "metadata": {},
   "source": [
    "##3. Metadata"
   ]
  },
  {
   "cell_type": "markdown",
   "metadata": {},
   "source": [
    "Metadata is information about the data in the database. Metadata in a SQLite contains information about the tables and columns, in which we store data. Number of rows affected by an SQL statement is a metadata. Number of rows and columns returned in a result set belong to metadata as well.\n",
    "\n",
    "Metadata in SQLite can be obtained using the PRAGMA command. SQLite objects may have attributes, which are metadata. Finally, we can also obtain specific metatada from querying the SQLite system sqlite_master table."
   ]
  },
  {
   "cell_type": "code",
   "execution_count": 38,
   "metadata": {
    "collapsed": false,
    "jupyter": {
     "outputs_hidden": false
    }
   },
   "outputs": [
    {
     "name": "stdout",
     "output_type": "stream",
     "text": [
      "0 Id INT\n",
      "1 Name TEXT\n",
      "2 Price INT\n"
     ]
    }
   ],
   "source": [
    "con = sql3.connect('test.db')\n",
    "\n",
    "with con:\n",
    "    \n",
    "    cur = con.cursor()    \n",
    "    \n",
    "    cur.execute('PRAGMA table_info(Cars)')\n",
    "    \n",
    "    data = cur.fetchall()\n",
    "    \n",
    "    for d in data:\n",
    "        print d[0], d[1], d[2]"
   ]
  },
  {
   "cell_type": "markdown",
   "metadata": {},
   "source": [
    "Next we will print all rows from the Cars table with their column names."
   ]
  },
  {
   "cell_type": "code",
   "execution_count": 46,
   "metadata": {
    "collapsed": false,
    "jupyter": {
     "outputs_hidden": false
    }
   },
   "outputs": [
    {
     "name": "stdout",
     "output_type": "stream",
     "text": [
      "Id    Name            Price\n",
      "1     Audi            62300\n",
      "2     Mercedes        57127\n",
      "3     Skoda           9000\n",
      "4     Volvo           29000\n",
      "5     Bentley         350000\n",
      "6     Citroen         21000\n",
      "7     Hummer          41400\n",
      "8     Volkswagen      21600\n"
     ]
    }
   ],
   "source": [
    "con = sql3.connect('test.db')\n",
    "\n",
    "with con:\n",
    "    \n",
    "    cur = con.cursor()    \n",
    "    cur.execute('SELECT * FROM Cars')\n",
    "    \n",
    "    col_names = [cn[0] for cn in cur.description]\n",
    "    \n",
    "    rows = cur.fetchall()\n",
    "    \n",
    "    print \"%-5s %-15s %s\" % (col_names[0], col_names[1], col_names[2])\n",
    "\n",
    "    for row in rows:    \n",
    "        print \"%-5s %-15s %s\" % row"
   ]
  },
  {
   "cell_type": "markdown",
   "metadata": {},
   "source": [
    "Another example related to the metadata, we list all tables in the test.db database."
   ]
  },
  {
   "cell_type": "code",
   "execution_count": 49,
   "metadata": {
    "collapsed": false,
    "jupyter": {
     "outputs_hidden": false
    }
   },
   "outputs": [
    {
     "name": "stdout",
     "output_type": "stream",
     "text": [
      "Cars\n"
     ]
    }
   ],
   "source": [
    "con = sql3.connect('test.db')\n",
    "\n",
    "with con:\n",
    "    \n",
    "    cur = con.cursor()    \n",
    "    cur.execute(\"SELECT name FROM sqlite_master WHERE type='table'\")\n",
    "\n",
    "    rows = cur.fetchall()\n",
    "\n",
    "    for row in rows:\n",
    "        print row[0]"
   ]
  },
  {
   "cell_type": "markdown",
   "metadata": {},
   "source": [
    "##4. Export and Import of Data"
   ]
  },
  {
   "cell_type": "markdown",
   "metadata": {},
   "source": [
    "We can dump data in an SQL format to create a simple backup of our database tables"
   ]
  },
  {
   "cell_type": "code",
   "execution_count": 51,
   "metadata": {
    "collapsed": false,
    "jupyter": {
     "outputs_hidden": false
    }
   },
   "outputs": [],
   "source": [
    "cars = (\n",
    "    (1, 'Audi', 52643),\n",
    "    (2, 'Mercedes', 57642),\n",
    "    (3, 'Skoda', 9000),\n",
    "    (4, 'Volvo', 29000),\n",
    "    (5, 'Bentley', 350000),\n",
    "    (6, 'Hummer', 41400),\n",
    "    (7, 'Volkswagen', 21600)\n",
    ")\n",
    "\n",
    "# The data from the table is being written to the file:\n",
    "\n",
    "def writeData(data):\n",
    "    \n",
    "    f = open('cars.sql', 'w')\n",
    "    \n",
    "    with f:\n",
    "        f.write(data)\n",
    "\n",
    "# We create a temporary table in the memory: \n",
    "\n",
    "con = sql3.connect(':memory:')\n",
    "\n",
    "# These lines create a Cars table, insert values and delete rows, \n",
    "# where the Price is less than 30000 units.\n",
    "\n",
    "with con:\n",
    "    \n",
    "    cur = con.cursor()\n",
    "    \n",
    "    cur.execute(\"DROP TABLE IF EXISTS Cars\")\n",
    "    cur.execute(\"CREATE TABLE Cars(Id INT, Name TEXT, Price INT)\")\n",
    "    cur.executemany(\"INSERT INTO Cars VALUES(?, ?, ?)\", cars)\n",
    "    cur.execute(\"DELETE FROM Cars WHERE Price < 30000\")\n",
    "    \n",
    "    # The con.iterdump() returns an iterator to dump the database \n",
    "    # in an SQL text format. The built-in join() function takes \n",
    "    # the iterator and joins all the strings in the iterator separated \n",
    "    # by a new line. This data is written to the cars.sql file in \n",
    "    # the writeData() function.\n",
    "    \n",
    "    data = '\\n'.join(con.iterdump())\n",
    "    \n",
    "    writeData(data)"
   ]
  },
  {
   "cell_type": "code",
   "execution_count": 53,
   "metadata": {
    "collapsed": false,
    "jupyter": {
     "outputs_hidden": false
    }
   },
   "outputs": [
    {
     "name": "stdout",
     "output_type": "stream",
     "text": [
      "BEGIN TRANSACTION;\n",
      "CREATE TABLE Cars(Id INT, Name TEXT, Price INT);\n",
      "INSERT INTO \"Cars\" VALUES(1,'Audi',52643);\n",
      "INSERT INTO \"Cars\" VALUES(2,'Mercedes',57642);\n",
      "INSERT INTO \"Cars\" VALUES(5,'Bentley',350000);\n",
      "INSERT INTO \"Cars\" VALUES(6,'Hummer',41400);\n",
      "COMMIT;\n"
     ]
    }
   ],
   "source": [
    "print data"
   ]
  },
  {
   "cell_type": "markdown",
   "metadata": {},
   "source": [
    "Now we are going to perform a reverse operation. We will import the dumped table back into memory."
   ]
  },
  {
   "cell_type": "code",
   "execution_count": 55,
   "metadata": {
    "collapsed": false,
    "jupyter": {
     "outputs_hidden": false
    }
   },
   "outputs": [
    {
     "name": "stdout",
     "output_type": "stream",
     "text": [
      "(1, u'Audi', 52643)\n",
      "(2, u'Mercedes', 57642)\n",
      "(5, u'Bentley', 350000)\n",
      "(6, u'Hummer', 41400)\n"
     ]
    }
   ],
   "source": [
    "def readData():\n",
    "    \n",
    "    f = open('cars.sql', 'r')\n",
    "    \n",
    "    with f:\n",
    "        data = f.read()\n",
    "        return data\n",
    "        \n",
    "\n",
    "con = sql3.connect(':memory:')\n",
    "\n",
    "with con:   \n",
    "\n",
    "    cur = con.cursor()\n",
    "    \n",
    "    sql_query = readData()\n",
    "    cur.executescript(sql_query)\n",
    "    \n",
    "    cur.execute(\"SELECT * FROM Cars\")\n",
    "    \n",
    "    rows = cur.fetchall()\n",
    "    \n",
    "    for row in rows:\n",
    "        print row    "
   ]
  },
  {
   "cell_type": "markdown",
   "metadata": {},
   "source": [
    "##5. Transactions"
   ]
  },
  {
   "cell_type": "markdown",
   "metadata": {},
   "source": [
    "A transaction is an atomic unit of database operations against the data in one or more databases. The effects of all the **SQL** statements in a transaction can be either all committed to the database or all rolled back.\n",
    "\n",
    "In **SQLite**, any command other than the `SELECT` will start an implicit transaction. Also, within a transaction a command like `CREATE TABLE` ..., `VACUUM`, `PRAGMA`, will commit previous changes before executing.\n",
    "\n",
    "Manual transactions are started with the `BEGIN TRANSACTION` statement and finished with the `COMMIT` or `ROLLBACK` statements.\n",
    "\n",
    "**SQLite** supports three non-standard transaction levels. `DEFERRED`, `IMMEDIATE` and `EXCLUSIVE`. SQLite Python module also supports an autocommit mode, where all changes to the tables are immediately effective."
   ]
  },
  {
   "cell_type": "code",
   "execution_count": 66,
   "metadata": {
    "collapsed": false,
    "jupyter": {
     "outputs_hidden": false
    }
   },
   "outputs": [],
   "source": [
    "# We create a friends table and try to fill it with data. However, the data is not commited...\n",
    "# because the commit() menhod is commented. \n",
    "# If we uncomment the line, the line will be written to the table:\n",
    "\n",
    "#import sqlite3 as sql\n",
    "\n",
    "try:\n",
    "    con = sql3.connect('test.db')\n",
    "    cur = con.cursor()    \n",
    "    cur.execute(\"DROP TABLE IF EXISTS Friends\")\n",
    "    cur.execute(\"CREATE TABLE Friends(Id INTEGER PRIMARY KEY, Name TEXT)\")\n",
    "    cur.execute(\"INSERT INTO Friends(Name) VALUES ('Tom')\")\n",
    "    cur.execute(\"INSERT INTO Friends(Name) VALUES ('Rebecca')\")\n",
    "    cur.execute(\"INSERT INTO Friends(Name) VALUES ('Jim')\")\n",
    "    cur.execute(\"INSERT INTO Friends(Name) VALUES ('Robert')\")\n",
    "    \n",
    "#---> con.commit()\n",
    "            \n",
    "except sql3.error, e:\n",
    "    \n",
    "    if con:\n",
    "        con.rollback()\n",
    "    \n",
    "    print \"Error %s:\" % e.args[0]\n",
    "    sys.exit(1)\n",
    "    \n",
    "finally:\n",
    "    \n",
    "    if con:\n",
    "        con.close() "
   ]
  },
  {
   "cell_type": "code",
   "execution_count": 98,
   "metadata": {
    "collapsed": false,
    "jupyter": {
     "outputs_hidden": false
    }
   },
   "outputs": [],
   "source": [
    "cnx = sql3.connect('movies.db')\n",
    "\n",
    "with con:\n",
    "    \n",
    "    cur = con.cursor()    \n",
    "    \n",
    "    cur.execute('PRAGMA table_info(Movies)')\n",
    "    \n",
    "    data = cur.fetchall()\n",
    "    \n",
    "    for d in data:\n",
    "        print d[0], d[1], d[2]"
   ]
  }
 ],
 "metadata": {
  "kernelspec": {
   "display_name": "Python 3",
   "language": "python",
   "name": "python3"
  },
  "language_info": {
   "codemirror_mode": {
    "name": "ipython",
    "version": 3
   },
   "file_extension": ".py",
   "mimetype": "text/x-python",
   "name": "python",
   "nbconvert_exporter": "python",
   "pygments_lexer": "ipython3",
   "version": "3.8.5"
  }
 },
 "nbformat": 4,
 "nbformat_minor": 4
}
