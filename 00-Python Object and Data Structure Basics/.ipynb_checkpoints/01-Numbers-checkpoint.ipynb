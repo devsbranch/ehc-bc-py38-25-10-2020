{
 "cells": [
  {
   "cell_type": "markdown",
   "metadata": {},
   "source": [
    "# DataTypes, Variables and Strings in Python!"
   ]
  },
  {
   "cell_type": "markdown",
   "metadata": {},
   "source": [
    "In this lecture we will learn about numbers in python and how to use them.\n",
    " we'ill learn about the following topics:\n",
    " \n",
    " 1.) Types of Numbers in python\n",
    " \n",
    " 2.) Basic Arithmetic\n",
    " \n",
    " 3.) Object assignment in Python\n",
    " \n",
    " 4.) Variable converntions in Python\n",
    " "
   ]
  },
  {
   "cell_type": "markdown",
   "metadata": {},
   "source": [
    "### Basic Arithmetic [ Integers ]"
   ]
  },
  {
   "cell_type": "markdown",
   "metadata": {},
   "source": [
    "commments\n",
    " - single line comments - always start with #\n",
    " - multiline comments - always start and ends with either \"\"\" OR '''\n"
   ]
  },
  {
   "cell_type": "markdown",
   "metadata": {},
   "source": [
    "# Documnentation should always be in \"\"\" here \"\"\" OR ''' here '''\n",
    "'''\n",
    "My code simply prints stuff out to the user.\n",
    "'''\n",
    "# comment + documentation"
   ]
  },
  {
   "cell_type": "markdown",
   "metadata": {},
   "source": [
    "# Variables"
   ]
  },
  {
   "cell_type": "code",
   "execution_count": 21,
   "metadata": {},
   "outputs": [],
   "source": [
    "# a variable is a place of reference in memory\n",
    "# that place of reference is known by a given name  (variable)"
   ]
  },
  {
   "cell_type": "code",
   "execution_count": 22,
   "metadata": {},
   "outputs": [],
   "source": [
    "# store my age in a python variable, call the variable as `user age`"
   ]
  },
  {
   "cell_type": "code",
   "execution_count": 24,
   "metadata": {},
   "outputs": [],
   "source": [
    "# 2 options of variable naming\n",
    " # OPTION 1 - CAPITALIZATION\n",
    "    # e.g UserAge or userAge\n",
    " # OPTION 2 - using underscores - considered more pythonic - MY PREFERENCE\n",
    "    # e.g user_age\n",
    "    # kenya_female_hostel\n",
    "    # X 25_years_students\n",
    "    # students_25_years\n",
    "    # you can also start a variable with underscore \n",
    "        # _user_age"
   ]
  },
  {
   "cell_type": "code",
   "execution_count": 25,
   "metadata": {},
   "outputs": [
    {
     "data": {
      "text/plain": [
       "7"
      ]
     },
     "execution_count": 25,
     "metadata": {},
     "output_type": "execute_result"
    }
   ],
   "source": [
    "# Addition ( + )\n",
    "3 + 4"
   ]
  },
  {
   "cell_type": "code",
   "execution_count": 26,
   "metadata": {},
   "outputs": [
    {
     "data": {
      "text/plain": [
       "7"
      ]
     },
     "execution_count": 26,
     "metadata": {},
     "output_type": "execute_result"
    }
   ],
   "source": [
    "first_number = 3\n",
    "second_number = 4\n",
    "first_number + second_number"
   ]
  },
  {
   "cell_type": "code",
   "execution_count": 27,
   "metadata": {},
   "outputs": [],
   "source": [
    "my_sum = first_number + second_number"
   ]
  },
  {
   "cell_type": "code",
   "execution_count": 28,
   "metadata": {},
   "outputs": [
    {
     "name": "stdout",
     "output_type": "stream",
     "text": [
      "7\n"
     ]
    }
   ],
   "source": [
    "print(my_sum)"
   ]
  },
  {
   "cell_type": "code",
   "execution_count": 29,
   "metadata": {},
   "outputs": [
    {
     "data": {
      "text/plain": [
       "3"
      ]
     },
     "execution_count": 29,
     "metadata": {},
     "output_type": "execute_result"
    }
   ],
   "source": [
    "# subtraction ( - )\n",
    "5 - 2"
   ]
  },
  {
   "cell_type": "code",
   "execution_count": 34,
   "metadata": {},
   "outputs": [
    {
     "name": "stdout",
     "output_type": "stream",
     "text": [
      "3\n"
     ]
    }
   ],
   "source": [
    "first_int = 5\n",
    "second_integer = 2\n",
    "diff = first_int - second_integer\n",
    "print(diff)"
   ]
  },
  {
   "cell_type": "code",
   "execution_count": 35,
   "metadata": {},
   "outputs": [],
   "source": [
    "age = 56\n",
    "# capitalization (using underscores) will only be necesarry when a variable has more than 1 word in it\n",
    "# age_for_daughlas = 56"
   ]
  },
  {
   "cell_type": "code",
   "execution_count": 38,
   "metadata": {},
   "outputs": [
    {
     "data": {
      "text/plain": [
       "8"
      ]
     },
     "execution_count": 38,
     "metadata": {},
     "output_type": "execute_result"
    }
   ],
   "source": [
    "# Multiplication ( * )\n",
    "4 * 2"
   ]
  },
  {
   "cell_type": "code",
   "execution_count": 40,
   "metadata": {},
   "outputs": [],
   "source": [
    "first_multiple = 4 \n",
    "second_multiple = 2\n",
    "product = first_multiple * second_multiple"
   ]
  },
  {
   "cell_type": "code",
   "execution_count": 42,
   "metadata": {},
   "outputs": [
    {
     "name": "stdout",
     "output_type": "stream",
     "text": [
      "8\n"
     ]
    }
   ],
   "source": [
    "print(product)"
   ]
  },
  {
   "cell_type": "code",
   "execution_count": 46,
   "metadata": {},
   "outputs": [],
   "source": [
    "# Division ( / )\n",
    "3 / 2\n",
    "\n",
    "div_one = 3\n",
    "div_two = 2\n",
    "result = div_one / div_two"
   ]
  },
  {
   "cell_type": "code",
   "execution_count": 49,
   "metadata": {},
   "outputs": [
    {
     "name": "stdout",
     "output_type": "stream",
     "text": [
      "1.5\n"
     ]
    }
   ],
   "source": [
    "print(result)"
   ]
  },
  {
   "cell_type": "code",
   "execution_count": 50,
   "metadata": {},
   "outputs": [
    {
     "data": {
      "text/plain": [
       "1"
      ]
     },
     "execution_count": 50,
     "metadata": {},
     "output_type": "execute_result"
    }
   ],
   "source": [
    "# Floor Division ( // )\n",
    "3 // 2\n"
   ]
  },
  {
   "cell_type": "code",
   "execution_count": 52,
   "metadata": {},
   "outputs": [],
   "source": [
    "floor_val_one = 7 \n",
    "second_floor_val = 4\n",
    "result = floor_val_one //  second_floor_val"
   ]
  },
  {
   "cell_type": "code",
   "execution_count": 53,
   "metadata": {},
   "outputs": [
    {
     "name": "stdout",
     "output_type": "stream",
     "text": [
      "1\n"
     ]
    }
   ],
   "source": [
    "print(result)"
   ]
  },
  {
   "cell_type": "code",
   "execution_count": 67,
   "metadata": {},
   "outputs": [
    {
     "name": "stdout",
     "output_type": "stream",
     "text": [
      "Alison Mukoma\n"
     ]
    }
   ],
   "source": [
    "my_name = \"Alison Mukoma\"\n",
    "print(my_name)"
   ]
  },
  {
   "cell_type": "code",
   "execution_count": 68,
   "metadata": {},
   "outputs": [
    {
     "name": "stdout",
     "output_type": "stream",
     "text": [
      "Alison Mukoma\n"
     ]
    }
   ],
   "source": [
    "my_name_second = \"Alison Mukoma second\"\n",
    "print(my_name)"
   ]
  },
  {
   "cell_type": "code",
   "execution_count": 69,
   "metadata": {},
   "outputs": [
    {
     "data": {
      "text/plain": [
       "3"
      ]
     },
     "execution_count": 69,
     "metadata": {},
     "output_type": "execute_result"
    }
   ],
   "source": [
    "# Modulo ( % )\n",
    "7 % 4"
   ]
  },
  {
   "cell_type": "code",
   "execution_count": 77,
   "metadata": {},
   "outputs": [
    {
     "data": {
      "text/plain": [
       "float"
      ]
     },
     "execution_count": 77,
     "metadata": {},
     "output_type": "execute_result"
    }
   ],
   "source": [
    "# powers\n",
    "# 3 to the power of 2\n",
    "my_floor_result = 3 ** 0.5\n",
    "type(my_floor_result)"
   ]
  },
  {
   "cell_type": "markdown",
   "metadata": {},
   "source": [
    "## STRINGS"
   ]
  },
  {
   "cell_type": "code",
   "execution_count": 82,
   "metadata": {},
   "outputs": [
    {
     "data": {
      "text/plain": [
       "('hello class', 'OR', 'hello class')"
      ]
     },
     "execution_count": 82,
     "metadata": {},
     "output_type": "execute_result"
    }
   ],
   "source": [
    "# single word strings\n",
    "'hello class', 'OR', \"hello class\""
   ]
  },
  {
   "cell_type": "code",
   "execution_count": 115,
   "metadata": {},
   "outputs": [
    {
     "data": {
      "text/plain": [
       "str"
      ]
     },
     "execution_count": 115,
     "metadata": {},
     "output_type": "execute_result"
    }
   ],
   "source": [
    "user_name = \"user1234\"\n",
    "# print(user_name)\n",
    "# type(user_name )\n",
    "\n",
    "# you can convert from one datatype to the other\n",
    "\n",
    "# from int to str\n",
    "# or from str to int\n",
    "\n",
    "user_age = 54\n",
    "# print(user_age)\n",
    "user_age = str(user_age)\n",
    "type(user_age)\n",
    "\n",
    "# print(user_name)\n",
    "type(user_name)\n",
    "\n",
    "my_int = 346\n",
    "type(my_int)\n",
    "\n",
    "conv = str(my_int)\n",
    "type(conv)\n",
    "\n",
    "\n",
    "name = 'ALISON'\n",
    "\n",
    "'345' -> 345\n"
   ]
  },
  {
   "cell_type": "code",
   "execution_count": 135,
   "metadata": {},
   "outputs": [
    {
     "name": "stdout",
     "output_type": "stream",
     "text": [
      "Hello user 123\n",
      "and how are you doing?\n",
      "Hello \n",
      "user 123 \n",
      "and how are \n",
      "you doing?\n"
     ]
    }
   ],
   "source": [
    "print('Hello user 123') \n",
    "print('and how are you doing?')\n",
    "\n",
    "# 'OR'\n",
    "\n",
    "# print('\\n')\n",
    "print('Hello \\nuser 123 \\nand how are \\nyou doing?')"
   ]
  },
  {
   "cell_type": "code",
   "execution_count": 140,
   "metadata": {},
   "outputs": [
    {
     "data": {
      "text/plain": [
       "73"
      ]
     },
     "execution_count": 140,
     "metadata": {},
     "output_type": "execute_result"
    }
   ],
   "source": [
    "looong_string = \"I am a string with looooong wooooordddds in me, please pardon me for that\"\n",
    "# print(looong_string)\n",
    "\n",
    "len(looong_string)"
   ]
  },
  {
   "cell_type": "markdown",
   "metadata": {},
   "source": [
    "# STRING SLICING"
   ]
  },
  {
   "cell_type": "code",
   "execution_count": 143,
   "metadata": {},
   "outputs": [
    {
     "data": {
      "text/plain": [
       "21"
      ]
     },
     "execution_count": 143,
     "metadata": {},
     "output_type": "execute_result"
    }
   ],
   "source": [
    "test_string = \"I am here to be sliced\"\n",
    "len(test_string)"
   ]
  }
 ],
 "metadata": {
  "kernelspec": {
   "display_name": "Python 3",
   "language": "python",
   "name": "python3"
  },
  "language_info": {
   "codemirror_mode": {
    "name": "ipython",
    "version": 3
   },
   "file_extension": ".py",
   "mimetype": "text/x-python",
   "name": "python",
   "nbconvert_exporter": "python",
   "pygments_lexer": "ipython3",
   "version": "3.8.5"
  }
 },
 "nbformat": 4,
 "nbformat_minor": 4
}
