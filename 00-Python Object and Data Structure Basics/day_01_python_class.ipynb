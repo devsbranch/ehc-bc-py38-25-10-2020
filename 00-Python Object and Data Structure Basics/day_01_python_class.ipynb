{
 "cells": [
  {
   "cell_type": "markdown",
   "metadata": {},
   "source": [
    "___\n",
    "\n",
    "<a href='https://github.com/sonlinux/'><img src='../sonlinux@devsbranch.png'/></a>\n",
    "___\n",
    "<center><em>Coursework  delivered by: Alison Mukoma </em></center>\n",
    "<center><em>Copyright: Evelyn Hone College cc DevsBranch</em></center>"
   ]
  },
  {
   "cell_type": "markdown",
   "metadata": {},
   "source": [
    "<center><em><h1>Welcome to our second class everyone</h1></em></center>"
   ]
  },
  {
   "cell_type": "code",
   "execution_count": 11,
   "metadata": {},
   "outputs": [],
   "source": [
    "# print formatting in python\n",
    "# lists\n",
    "# Dictionaries\n",
    "# Tuples\n",
    "# Sets\n",
    "\n",
    "# File handling in python"
   ]
  },
  {
   "cell_type": "code",
   "execution_count": 12,
   "metadata": {},
   "outputs": [
    {
     "name": "stdout",
     "output_type": "stream",
     "text": [
      "Hello and welcome again David\n"
     ]
    }
   ],
   "source": [
    "# print formatting in python\n",
    "print(\"Hello and welcome again David\")"
   ]
  },
  {
   "cell_type": "code",
   "execution_count": 46,
   "metadata": {},
   "outputs": [
    {
     "name": "stdout",
     "output_type": "stream",
     "text": [
      "hello and i am from f strings Ganizani\n"
     ]
    }
   ],
   "source": [
    "user_name = \"Ganizani\"\n",
    "coding_experience = 7\n",
    "# print(\"Hellow and welcome once more David\")\n",
    "\n",
    "# 1st option - works accross python versions\n",
    "# print(\"Hello and welcome once more %s\" % user_name)\n",
    "\n",
    "# 2nd option - works accross python versions\n",
    "# print(\"Hello and welcome once more {fname} {lname}\".format(fname=user_name, lname='Lastname'))\n",
    "# print(\"Hello and welcome once more {my_name}\".format(my_name=user_name))\n",
    "\n",
    "# print(\"Hello and welcome once more {}\".format(user_name))\n",
    "# print(\"Hello and {} once more {}\".format('you are most welcome', user_name))\n",
    "\n",
    "# 3rd - for python 3 going up\n",
    "# greetings = \"welcome using 'f' string \"\n",
    "\n",
    "# print(f\"Hello and {greetings} again {user_name}\")\n",
    "\n",
    "# print(f'hello {coding_experience} years is {user_name}.\\'s nexperience at programming')\n",
    "\n",
    "# print(f\"hello and i am from f strings {user_name}\")"
   ]
  },
  {
   "cell_type": "code",
   "execution_count": 55,
   "metadata": {},
   "outputs": [
    {
     "name": "stdout",
     "output_type": "stream",
     "text": [
      "[22, 'six', 8, 9, 11.9, 3, True]\n"
     ]
    },
    {
     "data": {
      "text/plain": [
       "7"
      ]
     },
     "execution_count": 55,
     "metadata": {},
     "output_type": "execute_result"
    }
   ],
   "source": [
    "# Lists are data structures to represent data\n",
    "\n",
    "option_one = []\n",
    "# print(option_one)\n",
    "\n",
    "option_two = list()\n",
    "\n",
    "\n",
    "# print(option_two)\n",
    "# type(option_two)\n",
    "\n",
    "option_one_with_one_data_type = [22, 6, 8, 9, 11, 3, 0]\n",
    "\n",
    "option_one_with_multi_data_type = [22, 'six', 8, 9, 11.9, 3, True]\n",
    "print(option_one_with_multi_data_type)\n",
    "\n",
    "len(option_one_with_one_data_type)"
   ]
  },
  {
   "cell_type": "code",
   "execution_count": 66,
   "metadata": {},
   "outputs": [
    {
     "name": "stdout",
     "output_type": "stream",
     "text": [
      "[22, 'six', 8, 9, 11.9, 3, True, 'form outside', 'from outside 2', 9]\n"
     ]
    }
   ],
   "source": [
    "print(option_one_with_multi_data_type + ['form outside', 'from outside 2', 9])"
   ]
  },
  {
   "cell_type": "code",
   "execution_count": 67,
   "metadata": {},
   "outputs": [
    {
     "name": "stdout",
     "output_type": "stream",
     "text": [
      "[22, 'six', 8, 9, 11.9, 3, True, 22, 'six', 8, 9, 11.9, 3, True]\n"
     ]
    }
   ],
   "source": [
    "print(option_one_with_multi_data_type * 2)"
   ]
  },
  {
   "cell_type": "code",
   "execution_count": 71,
   "metadata": {},
   "outputs": [
    {
     "name": "stdout",
     "output_type": "stream",
     "text": [
      "[22, 'six', 8, 9, 11.9, 3, True, 'newly added', 'newly added', 45]\n"
     ]
    }
   ],
   "source": [
    "option_one_with_multi_data_type.append(45)\n",
    "print(option_one_with_multi_data_type)"
   ]
  },
  {
   "cell_type": "code",
   "execution_count": 79,
   "metadata": {},
   "outputs": [
    {
     "name": "stdout",
     "output_type": "stream",
     "text": [
      "45\n"
     ]
    }
   ],
   "source": [
    "print(option_one_with_multi_data_type[9])"
   ]
  },
  {
   "cell_type": "code",
   "execution_count": 83,
   "metadata": {},
   "outputs": [
    {
     "name": "stdout",
     "output_type": "stream",
     "text": [
      "[45, 'newly added', 'newly added', True, 3, 11.9, 9, 8, 'six', 22]\n"
     ]
    }
   ],
   "source": [
    "option_one_with_multi_data_type.reverse()\n",
    "print(option_one_with_multi_data_type)"
   ]
  },
  {
   "cell_type": "code",
   "execution_count": 84,
   "metadata": {},
   "outputs": [
    {
     "name": "stdout",
     "output_type": "stream",
     "text": [
      "22\n"
     ]
    }
   ],
   "source": [
    "print(option_one_with_multi_data_type[9])"
   ]
  },
  {
   "cell_type": "code",
   "execution_count": 85,
   "metadata": {},
   "outputs": [
    {
     "name": "stdout",
     "output_type": "stream",
     "text": [
      "hello thats me\n"
     ]
    }
   ],
   "source": [
    "print('hello' + ' thats me')"
   ]
  },
  {
   "cell_type": "code",
   "execution_count": 96,
   "metadata": {},
   "outputs": [
    {
     "name": "stdout",
     "output_type": "stream",
     "text": [
      "['hello', 'that', 'is', 'me']\n",
      "['hello', 9, 34]\n"
     ]
    }
   ],
   "source": [
    "print(['hello'] + ['that', 'is', 'me'])\n",
    "\n",
    "my_list = ['hello', 9]\n",
    "my_list.append(34)\n",
    "print(my_list)"
   ]
  },
  {
   "cell_type": "code",
   "execution_count": 113,
   "metadata": {},
   "outputs": [
    {
     "name": "stdout",
     "output_type": "stream",
     "text": [
      "1\n",
      "2\n",
      "something\n",
      "I am from the list 45\n",
      "I am from the list newly added\n",
      "I am from the list newly added\n",
      "I am from the list True\n",
      "I am from the list 3\n",
      "I am from the list 11.9\n",
      "I am from the list 9\n",
      "I am from the list 8\n",
      "I am from the list six\n",
      "I am from the list 22\n"
     ]
    }
   ],
   "source": [
    "# print(option_one_with_multi_data_type)\n",
    "\n",
    "# one = 1\n",
    "# two = 2\n",
    "\n",
    "one, two, three = 1, 2, 'something'\n",
    "\n",
    "print(one)\n",
    "print(two)\n",
    "print(three)\n",
    "\n",
    "\n",
    "# for loops\n",
    "for name in option_one_with_multi_data_type:\n",
    "    print('I am from the list', name)\n"
   ]
  },
  {
   "cell_type": "code",
   "execution_count": 152,
   "metadata": {},
   "outputs": [
    {
     "name": "stdout",
     "output_type": "stream",
     "text": [
      "names ['Alison', 'Jachin', 'Felix', 'PatRiCiA']\n",
      "exp 45\n",
      "color blue\n",
      "45 my keyt is an int\n"
     ]
    },
    {
     "data": {
      "text/plain": [
       "'patricia'"
      ]
     },
     "execution_count": 152,
     "metadata": {},
     "output_type": "execute_result"
    }
   ],
   "source": [
    "# Dictionaries\n",
    "# key: value\n",
    "# name: Alison\n",
    "\n",
    "# key + value = item\n",
    "\n",
    "my_dictionary = {'names': ['Alison', 'Jachin', 'Felix', 'PatRiCiA'], 'exp': 45, 'color': 'blue', 45: 'my keyt is an int'}\n",
    "\n",
    "\n",
    "for key, val in my_dictionary.items():\n",
    "    print(key, val)\n",
    "\n",
    "# for value in my_dictionary.values():\n",
    "#     print(value)\n",
    "\n",
    "my_dictionary['names'][3].lower()\n",
    "\n",
    "# 'Patricia'.lower()"
   ]
  },
  {
   "cell_type": "code",
   "execution_count": null,
   "metadata": {},
   "outputs": [],
   "source": [
    "# python  ...\n",
    "# visual studio code -\n",
    "\n",
    "# slack/watsapp -\n",
    "# zoom -\n",
    "# github - git -\n",
    "\n",
    "# tuples\n",
    "# sets\n",
    "# file handling - read and write content to a file"
   ]
  },
  {
   "cell_type": "code",
   "execution_count": 181,
   "metadata": {},
   "outputs": [
    {
     "data": {
      "text/plain": [
       "5"
      ]
     },
     "execution_count": 181,
     "metadata": {},
     "output_type": "execute_result"
    }
   ],
   "source": [
    "# Tuple\n",
    "# lis = ['myname', 45, 'again']\n",
    "# # changing an existing element is refered to as immutability\n",
    "# lis[0]='changeme'\n",
    "# # lists are mutable\n",
    "# print(lis[0])\n",
    "\n",
    "# Tuples are Immutable\n",
    "my_tuple_data = (1, 'jachin', 789, 3, 4, 4, 4, 4, 4)\n",
    "len(my_tuple_data)\n",
    "my_tuple_data.index(789)\n",
    "# my_tuple_data[2] = 54\n",
    "# my_tuple_data.append('patricia new here')\n",
    "my_tuple_data.count(4)"
   ]
  },
  {
   "cell_type": "code",
   "execution_count": 211,
   "metadata": {},
   "outputs": [
    {
     "name": "stdout",
     "output_type": "stream",
     "text": [
      "{'akdh', 3, 4, 5}\n"
     ]
    }
   ],
   "source": [
    "# sets and booleans\n",
    "# will only store uniques items\n",
    "# dictionaries = {}\n",
    "my_set = set()\n",
    "# type(sets)\n",
    "\n",
    "my_set.add(35)\n",
    "# print(my_set)\n",
    "\n",
    "my_list = [3, 3, 3, 3, 3, 3, 4, 5, 'akdh']\n",
    "# my_list_converted = set(my_list)\n",
    "\n",
    "# my_list_converted.add(10)\n",
    "\n",
    "# print(my_list_converted)\n",
    "\n",
    "# I want a list but with unique data in it\n",
    "# do not change the original list into a diff ds\n",
    "my_list_into_set = list(set(my_list)) # one liner\n",
    "\n",
    "\n",
    "# type(my_list_into_set)\n",
    "\n",
    "my_list_cleaned = set(my_list)\n",
    "my_list = list(my_list_cleaned)\n",
    "print(my_list_cleaned)"
   ]
  },
  {
   "cell_type": "code",
   "execution_count": null,
   "metadata": {},
   "outputs": [],
   "source": [
    "# booleans and \n",
    "# file management"
   ]
  },
  {
   "cell_type": "code",
   "execution_count": 219,
   "metadata": {},
   "outputs": [
    {
     "name": "stdout",
     "output_type": "stream",
     "text": [
      "None\n"
     ]
    }
   ],
   "source": [
    "a = True # Truthiness\n",
    "b = False # Falsiness\n",
    "\n",
    "1 > 2 # False\n",
    "2 > 1 # True\n",
    "\n",
    "c = None # this is more of an empty scenario\n",
    "print(c)\n",
    "\n",
    "# 1 not > 2"
   ]
  },
  {
   "cell_type": "code",
   "execution_count": null,
   "metadata": {},
   "outputs": [],
   "source": [
    "# within 2 weeks\n",
    "# - write enough python \n",
    "# - express your imagination\n",
    "\n",
    "\n",
    "# 1. get the total number of students, and their corresponding gender\n",
    "# 2. will count the students with gender `male`\n",
    "# 3. will count the students with gender `female`\n",
    "# 4. will show the total students with gender male\n",
    "# 5. will show the total students with gender female\n",
    "\n",
    "# python\n",
    "# user_input = []\n",
    "# for studnt in user_input:\n",
    "#     if studnt.gender == male:\n",
    "#         print()\n"
   ]
  },
  {
   "cell_type": "code",
   "execution_count": null,
   "metadata": {},
   "outputs": [],
   "source": [
    "# reading and writing to files in python\n"
   ]
  },
  {
   "cell_type": "code",
   "execution_count": 223,
   "metadata": {},
   "outputs": [
    {
     "data": {
      "text/plain": [
       "False"
      ]
     },
     "execution_count": 223,
     "metadata": {},
     "output_type": "execute_result"
    }
   ],
   "source": [
    "names = ['alison', 'patricia', 'felix', 'jachin']\n",
    "\n",
    "'jachin' not in names"
   ]
  },
  {
   "cell_type": "code",
   "execution_count": null,
   "metadata": {},
   "outputs": [],
   "source": []
  },
  {
   "cell_type": "code",
   "execution_count": null,
   "metadata": {},
   "outputs": [],
   "source": [
    "\n",
    "\n",
    "\n"
   ]
  },
  {
   "cell_type": "code",
   "execution_count": null,
   "metadata": {},
   "outputs": [],
   "source": []
  },
  {
   "cell_type": "code",
   "execution_count": null,
   "metadata": {},
   "outputs": [],
   "source": []
  },
  {
   "cell_type": "code",
   "execution_count": null,
   "metadata": {},
   "outputs": [],
   "source": []
  },
  {
   "cell_type": "code",
   "execution_count": null,
   "metadata": {},
   "outputs": [],
   "source": []
  },
  {
   "cell_type": "code",
   "execution_count": null,
   "metadata": {},
   "outputs": [],
   "source": []
  },
  {
   "cell_type": "code",
   "execution_count": null,
   "metadata": {},
   "outputs": [],
   "source": []
  },
  {
   "cell_type": "code",
   "execution_count": null,
   "metadata": {},
   "outputs": [],
   "source": []
  },
  {
   "cell_type": "code",
   "execution_count": null,
   "metadata": {},
   "outputs": [],
   "source": []
  },
  {
   "cell_type": "code",
   "execution_count": null,
   "metadata": {},
   "outputs": [],
   "source": [
    "# FILE HANDLING, FOR LOOPS IF STATEMENTS, AND FUNCTIONS IN PYTHON\n",
    "\n",
    "# you know \n",
    "# my_file = open('filename.txt')\n",
    "# my_file.write('content')\n",
    "# my_file.close()\n",
    "\n",
    "# my_file = open('filename.txt')\n",
    "# my_file.read()\n",
    "# my_close.close()\n",
    "\n",
    "# context managers\n",
    "# with open('test.txt', 'r') as test_file:\n",
    "#     print(test_file.read())"
   ]
  },
  {
   "cell_type": "code",
   "execution_count": 225,
   "metadata": {},
   "outputs": [
    {
     "name": "stdout",
     "output_type": "stream",
     "text": [
      "my name is  felix\n",
      "my name is  patricia\n",
      "my name is  jachin\n"
     ]
    }
   ],
   "source": [
    "# for loops\n",
    "# for placeholde in iterable:\n",
    "#     print(placeholder)\n",
    "\n",
    "\n",
    "# the_geeks = ['felix', 'patricia', 'jachin']\n",
    "\n",
    "# for name in the_geeks:\n",
    "#     print(\"my name is \", name)    "
   ]
  },
  {
   "cell_type": "code",
   "execution_count": 234,
   "metadata": {},
   "outputs": [
    {
     "name": "stdout",
     "output_type": "stream",
     "text": [
      "No student found\n"
     ]
    }
   ],
   "source": [
    "# break statement\n",
    "\n",
    "\n",
    "# if statements ( conditions )\n",
    "# if case1\n",
    "#     perform this action\n",
    "# if case2\n",
    "#     perform action 2\n",
    "# if case3\n",
    "#     perform action 3\n",
    "\n",
    "# if case1:\n",
    "#     perform action1\n",
    "# # else if \n",
    "# elif case2:\n",
    "#     perform action2\n",
    "# elif case3:\n",
    "#     perform action3\n",
    "# else:\n",
    "#     tell the user you found nothing\n",
    "\n",
    "# if True:\n",
    "#     print('I am able to run.')\n",
    "\n",
    "student_names = ['felix', 'patricia', 'jachin']\n",
    "\n",
    "if 'pAtricia' in student_names:\n",
    "    print('Patricia was found')\n",
    "\n",
    "elif 'felIx' in student_names:\n",
    "    print('Felix was found')\n",
    "\n",
    "elif 'alison' in student_names:\n",
    "    print('Alison was found')\n",
    "    \n",
    "else:\n",
    "    print('No student found') # failsafe\n",
    "\n",
    "# defensive programming"
   ]
  },
  {
   "cell_type": "code",
   "execution_count": 251,
   "metadata": {},
   "outputs": [
    {
     "name": "stdout",
     "output_type": "stream",
     "text": [
      "feliX  Was not found.\n"
     ]
    }
   ],
   "source": [
    "# for loops\n",
    "\n",
    "# continue keyword\n",
    "\n",
    "the_geeks = ['felix', 'patricia', 'jachin']\n",
    "\n",
    "my_name_new = 'feliX'\n",
    "\n",
    "if my_name_new in the_geeks:\n",
    "    print(my_name_new, ' was found')\n",
    "\n",
    "if my_name_new not in the_geeks:\n",
    "    print(my_name_new, ' was not found')\n",
    "    \n",
    "# else:\n",
    "#     print(my_name_new, ' Was not found.')\n",
    "\n",
    "# for name in the_geeks:\n",
    "#     if name the geeks:\n",
    "#         print(name, ' is a committed student.')\n",
    "        \n",
    "#     if name == 'Douglas':\n",
    "#         print(name, ' is a committed student.')\n",
    "        \n",
    "#     else:\n",
    "#         print(name, ' is also a very good student.')\n",
    "        \n",
    "# name = 'Joseph'\n",
    "# if name not in the_geeks:\n",
    "#     print(name, 'was NOT found in the list of students')"
   ]
  },
  {
   "cell_type": "code",
   "execution_count": 273,
   "metadata": {},
   "outputs": [
    {
     "name": "stdout",
     "output_type": "stream",
     "text": [
      "Alison\n",
      "felix\n",
      "jachin\n"
     ]
    }
   ],
   "source": [
    "# continue keyword | skip\n",
    "\n",
    "our_list = [23, 54, 23.6, 'patricia', 'felix', 'jachin', 'alison']\n",
    "\n",
    "# for item in our_list:\n",
    "#     if item == 'patricia': # nested condition\n",
    "#         continue # continue | skip\n",
    "#     print(item)\n",
    "\n",
    "# break | STOP and do not go any further BUT give me back what you have accomplished so far\n",
    "\n",
    "# for elem in our_list:\n",
    "#     if elem == 'felix':\n",
    "#         print(our_list[:position_of_felix])\n",
    "#     print(elem)\n",
    "\n",
    "my_name = ['Alison', 'felix', 'jachin', 'another', 'nhame']\n",
    "\n",
    "for item in my_name[:3]:\n",
    "    print(item)"
   ]
  },
  {
   "cell_type": "code",
   "execution_count": 314,
   "metadata": {},
   "outputs": [
    {
     "name": "stdout",
     "output_type": "stream",
     "text": [
      "Alison is on position 0\n",
      "felix is on position 1\n",
      "jachin is on position 2\n",
      "another is on position 3\n",
      "nhame is on position 4\n"
     ]
    }
   ],
   "source": [
    "# enumerate, index|position (int), elem\n",
    "\n",
    "for index, item in enumerate(my_name):\n",
    "    print(f'{item} is on position {index}')"
   ]
  },
  {
   "cell_type": "code",
   "execution_count": 278,
   "metadata": {
    "collapsed": true,
    "jupyter": {
     "outputs_hidden": true
    }
   },
   "outputs": [
    {
     "name": "stdout",
     "output_type": "stream",
     "text": [
      "2 3\n"
     ]
    }
   ],
   "source": []
  },
  {
   "cell_type": "code",
   "execution_count": 313,
   "metadata": {},
   "outputs": [
    {
     "name": "stdout",
     "output_type": "stream",
     "text": [
      "0   is an EVEN number\n",
      "\n",
      "2   is an EVEN number\n",
      "\n",
      "4   is an EVEN number\n",
      "\n",
      "6   is an EVEN number\n",
      "\n",
      "8   is an EVEN number\n",
      "\n",
      "10   is an EVEN number\n",
      "\n"
     ]
    }
   ],
   "source": [
    "# functions\n",
    "# methods\n",
    "# classes\n",
    "# db interaction < 5\n",
    "# sqlite3 \n",
    "# polymorphism, inheritance, \n",
    "\n",
    "# range\n",
    "# % modulo - gives you the remainder\n",
    "# even divisible by 2 without a remainder, \n",
    "# odd - number leaves a remainder when divided by 2\n",
    "\n",
    "# prime numbers divisible by itself ONLY\n",
    "\n",
    "# option one\n",
    "\n",
    "numbers = list(range(12))\n",
    "\n",
    "for number in numbers:\n",
    "    if number % 2 == 0:\n",
    "        print(number, '  is an EVEN number\\n')\n",
    "\n",
    "        \n",
    "# option 2\n",
    "\n",
    "# my_numbers = list(range(30, 99, 3))\n",
    "# print(my_numbers)"
   ]
  },
  {
   "cell_type": "code",
   "execution_count": 301,
   "metadata": {},
   "outputs": [
    {
     "data": {
      "text/plain": [
       "0"
      ]
     },
     "execution_count": 301,
     "metadata": {},
     "output_type": "execute_result"
    }
   ],
   "source": []
  },
  {
   "cell_type": "code",
   "execution_count": null,
   "metadata": {},
   "outputs": [],
   "source": [
    "# I AM CORE PYTHON DEVELOPER - CPYTHON\n",
    "# CORE DEVELOPER ON DJANGO FRAMEWORK\n",
    "# "
   ]
  }
 ],
 "metadata": {
  "kernelspec": {
   "display_name": "Python 3",
   "language": "python",
   "name": "python3"
  },
  "language_info": {
   "codemirror_mode": {
    "name": "ipython",
    "version": 3
   },
   "file_extension": ".py",
   "mimetype": "text/x-python",
   "name": "python",
   "nbconvert_exporter": "python",
   "pygments_lexer": "ipython3",
   "version": "3.8.5"
  }
 },
 "nbformat": 4,
 "nbformat_minor": 4
}
